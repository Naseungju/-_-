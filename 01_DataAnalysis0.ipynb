{
 "cells": [
  {
   "cell_type": "markdown",
   "id": "074f39ec",
   "metadata": {},
   "source": [
    "# 01. 빅데이터 분석 과정"
   ]
  },
  {
   "cell_type": "markdown",
   "id": "477568ec",
   "metadata": {},
   "source": [
    "## 1.필요 패키지 import"
   ]
  },
  {
   "cell_type": "code",
   "execution_count": 1,
   "id": "db05f7ae",
   "metadata": {},
   "outputs": [],
   "source": [
    "import numpy as np\n",
    "import pandas as pd\n",
    "import matplotlib.pyplot as plt\n",
    "import sklearn\n",
    "\n",
    "from sklearn.tree import DecisionTreeClassifier          # 의사결정트리 - 분류\n",
    "from sklearn.model_selection import train_test_split     # train/test set 분리 패키지"
   ]
  },
  {
   "cell_type": "markdown",
   "id": "638f04e1",
   "metadata": {},
   "source": [
    "## 2. 데이터 불러오기"
   ]
  },
  {
   "cell_type": "code",
   "execution_count": 2,
   "id": "9baf6371",
   "metadata": {},
   "outputs": [],
   "source": [
    "df = pd.read_csv(\"https://raw.githubusercontent.com/mwaskom/seaborn-data/master/iris.csv\")"
   ]
  },
  {
   "cell_type": "markdown",
   "id": "f25970db",
   "metadata": {},
   "source": [
    "## 3. 데이터 살펴보기"
   ]
  },
  {
   "cell_type": "code",
   "execution_count": 4,
   "id": "096367f3",
   "metadata": {
    "collapsed": true
   },
   "outputs": [
    {
     "name": "stdout",
     "output_type": "stream",
     "text": [
      "<class 'pandas.core.frame.DataFrame'>\n",
      "RangeIndex: 150 entries, 0 to 149\n",
      "Data columns (total 5 columns):\n",
      " #   Column        Non-Null Count  Dtype  \n",
      "---  ------        --------------  -----  \n",
      " 0   sepal_length  150 non-null    float64\n",
      " 1   sepal_width   150 non-null    float64\n",
      " 2   petal_length  150 non-null    float64\n",
      " 3   petal_width   150 non-null    float64\n",
      " 4   species       150 non-null    object \n",
      "dtypes: float64(4), object(1)\n",
      "memory usage: 6.0+ KB\n"
     ]
    },
    {
     "data": {
      "text/plain": [
       "(   sepal_length  sepal_width  petal_length  petal_width species\n",
       " 0           5.1          3.5           1.4          0.2  setosa\n",
       " 1           4.9          3.0           1.4          0.2  setosa\n",
       " 2           4.7          3.2           1.3          0.2  setosa\n",
       " 3           4.6          3.1           1.5          0.2  setosa\n",
       " 4           5.0          3.6           1.4          0.2  setosa,\n",
       " (150, 5),\n",
       " None,\n",
       "               count      mean       std  min  25%   50%  75%  max\n",
       " sepal_length  150.0  5.843333  0.828066  4.3  5.1  5.80  6.4  7.9\n",
       " sepal_width   150.0  3.057333  0.435866  2.0  2.8  3.00  3.3  4.4\n",
       " petal_length  150.0  3.758000  1.765298  1.0  1.6  4.35  5.1  6.9\n",
       " petal_width   150.0  1.199333  0.762238  0.1  0.3  1.30  1.8  2.5)"
      ]
     },
     "execution_count": 4,
     "metadata": {},
     "output_type": "execute_result"
    }
   ],
   "source": [
    "df.head(), df.shape, df.info(), df.describe().T"
   ]
  },
  {
   "cell_type": "markdown",
   "id": "0d3b9377",
   "metadata": {},
   "source": [
    "## 4. 데이터 전처리\n",
    "- 이상치, 결측치 처리\n",
    "- 인코딩, 단위 환산, 자료형 변환, 정규화, 파생변수 생성 등"
   ]
  },
  {
   "cell_type": "markdown",
   "id": "ebcf98a6",
   "metadata": {},
   "source": [
    "### 레이블 인코딩 연습"
   ]
  },
  {
   "cell_type": "code",
   "execution_count": 6,
   "id": "c34910e9",
   "metadata": {
    "collapsed": true
   },
   "outputs": [
    {
     "data": {
      "text/html": [
       "<div>\n",
       "<style scoped>\n",
       "    .dataframe tbody tr th:only-of-type {\n",
       "        vertical-align: middle;\n",
       "    }\n",
       "\n",
       "    .dataframe tbody tr th {\n",
       "        vertical-align: top;\n",
       "    }\n",
       "\n",
       "    .dataframe thead th {\n",
       "        text-align: right;\n",
       "    }\n",
       "</style>\n",
       "<table border=\"1\" class=\"dataframe\">\n",
       "  <thead>\n",
       "    <tr style=\"text-align: right;\">\n",
       "      <th></th>\n",
       "      <th>sepal_length</th>\n",
       "      <th>sepal_width</th>\n",
       "      <th>petal_length</th>\n",
       "      <th>petal_width</th>\n",
       "      <th>species</th>\n",
       "    </tr>\n",
       "  </thead>\n",
       "  <tbody>\n",
       "    <tr>\n",
       "      <th>0</th>\n",
       "      <td>5.1</td>\n",
       "      <td>3.5</td>\n",
       "      <td>1.4</td>\n",
       "      <td>0.2</td>\n",
       "      <td>0</td>\n",
       "    </tr>\n",
       "    <tr>\n",
       "      <th>1</th>\n",
       "      <td>4.9</td>\n",
       "      <td>3.0</td>\n",
       "      <td>1.4</td>\n",
       "      <td>0.2</td>\n",
       "      <td>0</td>\n",
       "    </tr>\n",
       "    <tr>\n",
       "      <th>2</th>\n",
       "      <td>4.7</td>\n",
       "      <td>3.2</td>\n",
       "      <td>1.3</td>\n",
       "      <td>0.2</td>\n",
       "      <td>0</td>\n",
       "    </tr>\n",
       "    <tr>\n",
       "      <th>3</th>\n",
       "      <td>4.6</td>\n",
       "      <td>3.1</td>\n",
       "      <td>1.5</td>\n",
       "      <td>0.2</td>\n",
       "      <td>0</td>\n",
       "    </tr>\n",
       "    <tr>\n",
       "      <th>4</th>\n",
       "      <td>5.0</td>\n",
       "      <td>3.6</td>\n",
       "      <td>1.4</td>\n",
       "      <td>0.2</td>\n",
       "      <td>0</td>\n",
       "    </tr>\n",
       "    <tr>\n",
       "      <th>...</th>\n",
       "      <td>...</td>\n",
       "      <td>...</td>\n",
       "      <td>...</td>\n",
       "      <td>...</td>\n",
       "      <td>...</td>\n",
       "    </tr>\n",
       "    <tr>\n",
       "      <th>145</th>\n",
       "      <td>6.7</td>\n",
       "      <td>3.0</td>\n",
       "      <td>5.2</td>\n",
       "      <td>2.3</td>\n",
       "      <td>2</td>\n",
       "    </tr>\n",
       "    <tr>\n",
       "      <th>146</th>\n",
       "      <td>6.3</td>\n",
       "      <td>2.5</td>\n",
       "      <td>5.0</td>\n",
       "      <td>1.9</td>\n",
       "      <td>2</td>\n",
       "    </tr>\n",
       "    <tr>\n",
       "      <th>147</th>\n",
       "      <td>6.5</td>\n",
       "      <td>3.0</td>\n",
       "      <td>5.2</td>\n",
       "      <td>2.0</td>\n",
       "      <td>2</td>\n",
       "    </tr>\n",
       "    <tr>\n",
       "      <th>148</th>\n",
       "      <td>6.2</td>\n",
       "      <td>3.4</td>\n",
       "      <td>5.4</td>\n",
       "      <td>2.3</td>\n",
       "      <td>2</td>\n",
       "    </tr>\n",
       "    <tr>\n",
       "      <th>149</th>\n",
       "      <td>5.9</td>\n",
       "      <td>3.0</td>\n",
       "      <td>5.1</td>\n",
       "      <td>1.8</td>\n",
       "      <td>2</td>\n",
       "    </tr>\n",
       "  </tbody>\n",
       "</table>\n",
       "<p>150 rows × 5 columns</p>\n",
       "</div>"
      ],
      "text/plain": [
       "     sepal_length  sepal_width  petal_length  petal_width  species\n",
       "0             5.1          3.5           1.4          0.2        0\n",
       "1             4.9          3.0           1.4          0.2        0\n",
       "2             4.7          3.2           1.3          0.2        0\n",
       "3             4.6          3.1           1.5          0.2        0\n",
       "4             5.0          3.6           1.4          0.2        0\n",
       "..            ...          ...           ...          ...      ...\n",
       "145           6.7          3.0           5.2          2.3        2\n",
       "146           6.3          2.5           5.0          1.9        2\n",
       "147           6.5          3.0           5.2          2.0        2\n",
       "148           6.2          3.4           5.4          2.3        2\n",
       "149           5.9          3.0           5.1          1.8        2\n",
       "\n",
       "[150 rows x 5 columns]"
      ]
     },
     "execution_count": 6,
     "metadata": {},
     "output_type": "execute_result"
    }
   ],
   "source": [
    "df['species'].replace({'setosa':0, 'versicolor':1, 'virginica':2}, inplace=True)\n",
    "df"
   ]
  },
  {
   "cell_type": "markdown",
   "id": "88d2bc7c",
   "metadata": {},
   "source": [
    "## 5. 분석 데이터셋 준비\n",
    "- 일반적으로 8:2로 분리"
   ]
  },
  {
   "cell_type": "code",
   "execution_count": 14,
   "id": "afd2f256",
   "metadata": {},
   "outputs": [
    {
     "name": "stdout",
     "output_type": "stream",
     "text": [
      "(120, 4) (30, 4)\n",
      "(120,) (30,)\n"
     ]
    }
   ],
   "source": [
    "X = df.drop(columns='species')\n",
    "y = df['species']\n",
    "\n",
    "X_train, X_test, y_train, y_test = train_test_split(X, y, test_size=0.2, random_state=1)\n",
    "# stratify=y :: y 레이블을 균형있게 분리\n",
    "\n",
    "print(X_train.shape, X_test.shape)\n",
    "print(y_train.shape, y_test.shape)"
   ]
  },
  {
   "cell_type": "markdown",
   "id": "cd1a42b5",
   "metadata": {},
   "source": [
    "## 6. 데이터 분석 수행\n",
    "- 지도 학습\n",
    "> 분류 : 의사결정나무, KNN, SVM, 로지스틱 회귀분석, 랜덤포레스트, 인공신경망 <br>\n",
    "> 회귀(예측) : 선형회귀분석, 다중회귀분석, 의사결정트리\n",
    "\n",
    "- 비지도 학습\n",
    "> 군집분석, 연관분석, 인공신경망"
   ]
  },
  {
   "cell_type": "code",
   "execution_count": 15,
   "id": "aa315fc8",
   "metadata": {},
   "outputs": [
    {
     "data": {
      "text/html": [
       "<style>#sk-container-id-1 {color: black;background-color: white;}#sk-container-id-1 pre{padding: 0;}#sk-container-id-1 div.sk-toggleable {background-color: white;}#sk-container-id-1 label.sk-toggleable__label {cursor: pointer;display: block;width: 100%;margin-bottom: 0;padding: 0.3em;box-sizing: border-box;text-align: center;}#sk-container-id-1 label.sk-toggleable__label-arrow:before {content: \"▸\";float: left;margin-right: 0.25em;color: #696969;}#sk-container-id-1 label.sk-toggleable__label-arrow:hover:before {color: black;}#sk-container-id-1 div.sk-estimator:hover label.sk-toggleable__label-arrow:before {color: black;}#sk-container-id-1 div.sk-toggleable__content {max-height: 0;max-width: 0;overflow: hidden;text-align: left;background-color: #f0f8ff;}#sk-container-id-1 div.sk-toggleable__content pre {margin: 0.2em;color: black;border-radius: 0.25em;background-color: #f0f8ff;}#sk-container-id-1 input.sk-toggleable__control:checked~div.sk-toggleable__content {max-height: 200px;max-width: 100%;overflow: auto;}#sk-container-id-1 input.sk-toggleable__control:checked~label.sk-toggleable__label-arrow:before {content: \"▾\";}#sk-container-id-1 div.sk-estimator input.sk-toggleable__control:checked~label.sk-toggleable__label {background-color: #d4ebff;}#sk-container-id-1 div.sk-label input.sk-toggleable__control:checked~label.sk-toggleable__label {background-color: #d4ebff;}#sk-container-id-1 input.sk-hidden--visually {border: 0;clip: rect(1px 1px 1px 1px);clip: rect(1px, 1px, 1px, 1px);height: 1px;margin: -1px;overflow: hidden;padding: 0;position: absolute;width: 1px;}#sk-container-id-1 div.sk-estimator {font-family: monospace;background-color: #f0f8ff;border: 1px dotted black;border-radius: 0.25em;box-sizing: border-box;margin-bottom: 0.5em;}#sk-container-id-1 div.sk-estimator:hover {background-color: #d4ebff;}#sk-container-id-1 div.sk-parallel-item::after {content: \"\";width: 100%;border-bottom: 1px solid gray;flex-grow: 1;}#sk-container-id-1 div.sk-label:hover label.sk-toggleable__label {background-color: #d4ebff;}#sk-container-id-1 div.sk-serial::before {content: \"\";position: absolute;border-left: 1px solid gray;box-sizing: border-box;top: 0;bottom: 0;left: 50%;z-index: 0;}#sk-container-id-1 div.sk-serial {display: flex;flex-direction: column;align-items: center;background-color: white;padding-right: 0.2em;padding-left: 0.2em;position: relative;}#sk-container-id-1 div.sk-item {position: relative;z-index: 1;}#sk-container-id-1 div.sk-parallel {display: flex;align-items: stretch;justify-content: center;background-color: white;position: relative;}#sk-container-id-1 div.sk-item::before, #sk-container-id-1 div.sk-parallel-item::before {content: \"\";position: absolute;border-left: 1px solid gray;box-sizing: border-box;top: 0;bottom: 0;left: 50%;z-index: -1;}#sk-container-id-1 div.sk-parallel-item {display: flex;flex-direction: column;z-index: 1;position: relative;background-color: white;}#sk-container-id-1 div.sk-parallel-item:first-child::after {align-self: flex-end;width: 50%;}#sk-container-id-1 div.sk-parallel-item:last-child::after {align-self: flex-start;width: 50%;}#sk-container-id-1 div.sk-parallel-item:only-child::after {width: 0;}#sk-container-id-1 div.sk-dashed-wrapped {border: 1px dashed gray;margin: 0 0.4em 0.5em 0.4em;box-sizing: border-box;padding-bottom: 0.4em;background-color: white;}#sk-container-id-1 div.sk-label label {font-family: monospace;font-weight: bold;display: inline-block;line-height: 1.2em;}#sk-container-id-1 div.sk-label-container {text-align: center;}#sk-container-id-1 div.sk-container {/* jupyter's `normalize.less` sets `[hidden] { display: none; }` but bootstrap.min.css set `[hidden] { display: none !important; }` so we also need the `!important` here to be able to override the default hidden behavior on the sphinx rendered scikit-learn.org. See: https://github.com/scikit-learn/scikit-learn/issues/21755 */display: inline-block !important;position: relative;}#sk-container-id-1 div.sk-text-repr-fallback {display: none;}</style><div id=\"sk-container-id-1\" class=\"sk-top-container\"><div class=\"sk-text-repr-fallback\"><pre>DecisionTreeClassifier(random_state=1)</pre><b>In a Jupyter environment, please rerun this cell to show the HTML representation or trust the notebook. <br />On GitHub, the HTML representation is unable to render, please try loading this page with nbviewer.org.</b></div><div class=\"sk-container\" hidden><div class=\"sk-item\"><div class=\"sk-estimator sk-toggleable\"><input class=\"sk-toggleable__control sk-hidden--visually\" id=\"sk-estimator-id-1\" type=\"checkbox\" checked><label for=\"sk-estimator-id-1\" class=\"sk-toggleable__label sk-toggleable__label-arrow\">DecisionTreeClassifier</label><div class=\"sk-toggleable__content\"><pre>DecisionTreeClassifier(random_state=1)</pre></div></div></div></div></div>"
      ],
      "text/plain": [
       "DecisionTreeClassifier(random_state=1)"
      ]
     },
     "execution_count": 15,
     "metadata": {},
     "output_type": "execute_result"
    }
   ],
   "source": [
    "tree = DecisionTreeClassifier(random_state=1)  # 객체 생성\n",
    "tree.fit(X_train, y_train)                     # 학습"
   ]
  },
  {
   "cell_type": "code",
   "execution_count": 16,
   "id": "37616128",
   "metadata": {},
   "outputs": [],
   "source": [
    "pred = tree.predict(X_test)   # 예측"
   ]
  },
  {
   "cell_type": "markdown",
   "id": "b1dc14c9",
   "metadata": {},
   "source": [
    "## 7. 성능평가 및 시각화\n",
    "- 분류 결과(pred)와 실제 분류값(y_test)를 비교해 정확도 평가"
   ]
  },
  {
   "cell_type": "code",
   "execution_count": 17,
   "id": "4332048b",
   "metadata": {},
   "outputs": [
    {
     "name": "stdout",
     "output_type": "stream",
     "text": [
      "accuracy 0.9666666666666667\n"
     ]
    }
   ],
   "source": [
    "from sklearn.metrics import accuracy_score\n",
    "acc = accuracy_score(y_test, pred)  # 실제값, 예측갑 순으로 입력\n",
    "print('accuracy', acc)"
   ]
  },
  {
   "cell_type": "code",
   "execution_count": null,
   "id": "8fb486a2",
   "metadata": {},
   "outputs": [],
   "source": []
  },
  {
   "cell_type": "markdown",
   "id": "b4c79eb0",
   "metadata": {},
   "source": [
    "# 02. 사이킷런 패키지 "
   ]
  },
  {
   "cell_type": "markdown",
   "id": "17311a8e",
   "metadata": {},
   "source": [
    "### 사이킷런 제공 주요 모듈, 알고리즘\n",
    "- **변수 처리**\n",
    "> sklearn.preprocessing <br>\n",
    "> sklearn.feature_selection : 알고리즘에 영향을 미치는 변수 우선순위대로 선택하는 기능 <br>\n",
    "> sklearn.feature_extraction : 텍스트 이미지나 이미지 데이터의 벡터화된 피처를 추출하는 데 사용\n",
    "<br><br>\n",
    "- **데이터 분리, 검증**\n",
    "> sklearn.model_selection : 차원 축소와 관련된 알고리즘 지원\n",
    "<br><br>\n",
    "- **평가**\n",
    "> sklearn.metrics : accuracy, precision, recall, roc-auc, rmse 등 제공\n",
    "<br><br>\n",
    "- **머신러닝 알고리즘**\n",
    "> sklearn.tree : DecisionTreeClassifier <br>\n",
    "> sklearn.neighbors : KNN <br>\n",
    "> sklearn.svm : SVM <br>\n",
    "> sklearn.ensemble : RandomForestClassfier, GradientBoostingClassifier, RandomForestRegressor, GradientBoostingRegressor <br>\n",
    "> sklearn.linear_model : LinearRegression, Ridge, Lasso <br>\n",
    "> sklearn.naive_bayes : 나이브 베이즈 <br>\n",
    "> sklearn.cluster : K-means, DBSCAN "
   ]
  },
  {
   "cell_type": "markdown",
   "id": "a76d74e5",
   "metadata": {},
   "source": [
    "# 03. 성능 평가 방법"
   ]
  },
  {
   "cell_type": "markdown",
   "id": "48a817b4",
   "metadata": {},
   "source": [
    "## 1. 오차행렬 (Confusion Matrix, 혼동행렬)"
   ]
  },
  {
   "cell_type": "code",
   "execution_count": 18,
   "id": "8a3df714",
   "metadata": {},
   "outputs": [
    {
     "data": {
      "text/plain": [
       "array([[11,  0,  0],\n",
       "       [ 0, 12,  1],\n",
       "       [ 0,  0,  6]], dtype=int64)"
      ]
     },
     "execution_count": 18,
     "metadata": {},
     "output_type": "execute_result"
    }
   ],
   "source": [
    "from sklearn.metrics import confusion_matrix\n",
    "\n",
    "confusion_matrix(y_test, pred)  # 실제값, 예측값 순으로 입력"
   ]
  },
  {
   "cell_type": "markdown",
   "id": "afafd3e8",
   "metadata": {},
   "source": [
    "## 2. 모델 평가지표"
   ]
  },
  {
   "cell_type": "markdown",
   "id": "84fd0e64",
   "metadata": {},
   "source": [
    "**(1) 정확도 (accuracy)** <br>\n",
    "- accuracy_score() 함수로 구할 수 있음\n",
    "- 전체 데이터에서 정답을 맞힌 비율\n",
    "<br><br>\n",
    "**(2) 정밀도 (precision, 양성 예측도)** <br>\n",
    "- precision_score() 함수로 구할 수 있음\n",
    "- 1로 예측한 것들 중 실제로 1인 것의 비율\n",
    "<br><br>\n",
    "**(3) 재현율 (recall, 민감도)** <br>\n",
    "- recall_score() 함수로 구할 수 있음\n",
    "- 실제 1들 중 정답을 맞힌 비율\n",
    "<br><br>\n",
    "**(4) F1 score** <br>\n",
    "- f1_score() 함수로 구할 수 있음\n",
    "- 정밀도와 재현율을 결합한 조화평균 지표, 값이 클수록 모형이 정확한 것"
   ]
  },
  {
   "cell_type": "code",
   "execution_count": 19,
   "id": "97f69e66",
   "metadata": {},
   "outputs": [
    {
     "name": "stdout",
     "output_type": "stream",
     "text": [
      "              precision    recall  f1-score   support\n",
      "\n",
      "           0       1.00      1.00      1.00        11\n",
      "           1       1.00      0.92      0.96        13\n",
      "           2       0.86      1.00      0.92         6\n",
      "\n",
      "    accuracy                           0.97        30\n",
      "   macro avg       0.95      0.97      0.96        30\n",
      "weighted avg       0.97      0.97      0.97        30\n",
      "\n"
     ]
    }
   ],
   "source": [
    "from sklearn.metrics import classification_report\n",
    "\n",
    "rpt = classification_report(y_test, pred)\n",
    "print(rpt)"
   ]
  }
 ],
 "metadata": {
  "kernelspec": {
   "display_name": "Python 3 (ipykernel)",
   "language": "python",
   "name": "python3"
  },
  "language_info": {
   "codemirror_mode": {
    "name": "ipython",
    "version": 3
   },
   "file_extension": ".py",
   "mimetype": "text/x-python",
   "name": "python",
   "nbconvert_exporter": "python",
   "pygments_lexer": "ipython3",
   "version": "3.10.11"
  }
 },
 "nbformat": 4,
 "nbformat_minor": 5
}
