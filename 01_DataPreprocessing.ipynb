{
 "cells": [
  {
   "cell_type": "markdown",
   "id": "f3fda643",
   "metadata": {},
   "source": [
    "## 0. 분석 과정 및 절차\n",
    "- 분석 목적과 변수 확인 : 개별 변수 이름과 특성 확인\n",
    "- 데이터의 문제성 확인 : 결측치, 이상치 유무 확인, 분포상의 이상 형태(Head/Tail 확인)\n",
    "- 데이터의 개별 속성값 분포 확인 : 기초통계량을 통해 데이터가 예상 범위와 분포를 가지는지 확인\n",
    "- 데이터 사이의 관계 확인 : 상관관계 등 확인\n",
    "> info => 결측/이상치, head/tail => describe => corr"
   ]
  },
  {
   "cell_type": "markdown",
   "id": "95aca614",
   "metadata": {},
   "source": [
    "## 1. 개별 데이터 관찰\n",
    "- 데이터 값을 눈으로 살펴보며 전체적 추세와 특이사항 관찰 \n",
    "    - 데이터 앞/뒤 부분 관찰, 무작위 표본 추출 등 사용\n",
    "    - 분석목적과 변수 파악\n",
    "\n",
    "## 2. 데이터 문제성 확인\n",
    "- **결측치, 이상치** 유무 확인 (왜 발생했는가?)\n",
    "- 대처 방법 판단 \n",
    "    - 결측치 : 함수, 상관관계 등으로 확인 => 단순대치법, 다중대치법\n",
    "    - 이상치 : 통계값, 시각화, 머신러닝 기법으로 확인 => 제거, 대체, 유지 등\n",
    "\n",
    "## 3. 데이터의 개별 속성값 분포 확인\n",
    "- **통계지표** 사용\n",
    "    - 중심 : mean, median, mode\n",
    "    - 분산 : range, variance, standard deviation\n",
    "- **사분위범위** 사용\n",
    "- **시각화** : 확률밀도 함수, 히스토그램, 박스플롯, 산점도, 워드클라우드 시계열차트, 지도 등\n",
    "\n",
    "## 4. 데이터의 속성간 관계 파악\n",
    "- **상관관계 분석**을 통해 데이터의 속성 간 관계 파악\n",
    "    - 선형적 관계가 있는지 확인\n",
    "    - 관계 없으면 독립적인 관계, 관계 있으면 상관된 관계"
   ]
  },
  {
   "cell_type": "markdown",
   "id": "7d03b8fb",
   "metadata": {},
   "source": [
    "### 타이타닉 데이터셋"
   ]
  },
  {
   "cell_type": "code",
   "execution_count": 3,
   "id": "701557a3",
   "metadata": {},
   "outputs": [],
   "source": [
    "# 타이타닉 데이터셋 불러오기\n",
    "import numpy as np\n",
    "import pandas as pd\n",
    "import matplotlib.pyplot as plt\n",
    "import seaborn as sns\n",
    "\n",
    "titanic = sns.load_dataset('titanic')"
   ]
  },
  {
   "cell_type": "code",
   "execution_count": 4,
   "id": "3fd1c68d",
   "metadata": {
    "collapsed": true
   },
   "outputs": [
    {
     "name": "stdout",
     "output_type": "stream",
     "text": [
      "<class 'pandas.core.frame.DataFrame'>\n",
      "RangeIndex: 891 entries, 0 to 890\n",
      "Data columns (total 15 columns):\n",
      " #   Column       Non-Null Count  Dtype   \n",
      "---  ------       --------------  -----   \n",
      " 0   survived     891 non-null    int64   \n",
      " 1   pclass       891 non-null    int64   \n",
      " 2   sex          891 non-null    object  \n",
      " 3   age          714 non-null    float64 \n",
      " 4   sibsp        891 non-null    int64   \n",
      " 5   parch        891 non-null    int64   \n",
      " 6   fare         891 non-null    float64 \n",
      " 7   embarked     889 non-null    object  \n",
      " 8   class        891 non-null    category\n",
      " 9   who          891 non-null    object  \n",
      " 10  adult_male   891 non-null    bool    \n",
      " 11  deck         203 non-null    category\n",
      " 12  embark_town  889 non-null    object  \n",
      " 13  alive        891 non-null    object  \n",
      " 14  alone        891 non-null    bool    \n",
      "dtypes: bool(2), category(2), float64(2), int64(4), object(5)\n",
      "memory usage: 80.7+ KB\n"
     ]
    }
   ],
   "source": [
    "titanic.info()"
   ]
  },
  {
   "cell_type": "code",
   "execution_count": 6,
   "id": "9195c3bc",
   "metadata": {
    "collapsed": true
   },
   "outputs": [
    {
     "name": "stdout",
     "output_type": "stream",
     "text": [
      "<class 'pandas.core.frame.DataFrame'>\n",
      "RangeIndex: 891 entries, 0 to 890\n",
      "Data columns (total 15 columns):\n",
      " #   Column       Non-Null Count  Dtype   \n",
      "---  ------       --------------  -----   \n",
      " 0   survived     891 non-null    object  \n",
      " 1   pclass       891 non-null    object  \n",
      " 2   sex          891 non-null    object  \n",
      " 3   age          714 non-null    float64 \n",
      " 4   sibsp        891 non-null    int64   \n",
      " 5   parch        891 non-null    int64   \n",
      " 6   fare         891 non-null    float64 \n",
      " 7   embarked     889 non-null    object  \n",
      " 8   class        891 non-null    category\n",
      " 9   who          891 non-null    object  \n",
      " 10  adult_male   891 non-null    bool    \n",
      " 11  deck         203 non-null    category\n",
      " 12  embark_town  889 non-null    object  \n",
      " 13  alive        891 non-null    object  \n",
      " 14  alone        891 non-null    bool    \n",
      "dtypes: bool(2), category(2), float64(2), int64(2), object(7)\n",
      "memory usage: 80.7+ KB\n"
     ]
    }
   ],
   "source": [
    "# 변수 타입 변환\n",
    "titanic['survived'] = titanic['survived'].astype(str)\n",
    "titanic['pclass'] = titanic['pclass'].astype(str)\n",
    "\n",
    "titanic.info()\n",
    "# non-null count를 통해 age, embarked, deck, embark_town에 결측치가 있음을 확인 가능"
   ]
  },
  {
   "cell_type": "code",
   "execution_count": 10,
   "id": "7a8fd9da",
   "metadata": {},
   "outputs": [
    {
     "data": {
      "text/html": [
       "<div>\n",
       "<style scoped>\n",
       "    .dataframe tbody tr th:only-of-type {\n",
       "        vertical-align: middle;\n",
       "    }\n",
       "\n",
       "    .dataframe tbody tr th {\n",
       "        vertical-align: top;\n",
       "    }\n",
       "\n",
       "    .dataframe thead th {\n",
       "        text-align: right;\n",
       "    }\n",
       "</style>\n",
       "<table border=\"1\" class=\"dataframe\">\n",
       "  <thead>\n",
       "    <tr style=\"text-align: right;\">\n",
       "      <th></th>\n",
       "      <th>survived</th>\n",
       "      <th>pclass</th>\n",
       "      <th>sex</th>\n",
       "      <th>age</th>\n",
       "      <th>sibsp</th>\n",
       "      <th>parch</th>\n",
       "      <th>fare</th>\n",
       "      <th>embarked</th>\n",
       "      <th>class</th>\n",
       "      <th>who</th>\n",
       "      <th>adult_male</th>\n",
       "      <th>deck</th>\n",
       "      <th>embark_town</th>\n",
       "      <th>alive</th>\n",
       "      <th>alone</th>\n",
       "    </tr>\n",
       "  </thead>\n",
       "  <tbody>\n",
       "    <tr>\n",
       "      <th>0</th>\n",
       "      <td>0</td>\n",
       "      <td>3</td>\n",
       "      <td>male</td>\n",
       "      <td>22.0</td>\n",
       "      <td>1</td>\n",
       "      <td>0</td>\n",
       "      <td>7.2500</td>\n",
       "      <td>S</td>\n",
       "      <td>Third</td>\n",
       "      <td>man</td>\n",
       "      <td>True</td>\n",
       "      <td>NaN</td>\n",
       "      <td>Southampton</td>\n",
       "      <td>no</td>\n",
       "      <td>False</td>\n",
       "    </tr>\n",
       "    <tr>\n",
       "      <th>1</th>\n",
       "      <td>1</td>\n",
       "      <td>1</td>\n",
       "      <td>female</td>\n",
       "      <td>38.0</td>\n",
       "      <td>1</td>\n",
       "      <td>0</td>\n",
       "      <td>71.2833</td>\n",
       "      <td>C</td>\n",
       "      <td>First</td>\n",
       "      <td>woman</td>\n",
       "      <td>False</td>\n",
       "      <td>C</td>\n",
       "      <td>Cherbourg</td>\n",
       "      <td>yes</td>\n",
       "      <td>False</td>\n",
       "    </tr>\n",
       "    <tr>\n",
       "      <th>2</th>\n",
       "      <td>1</td>\n",
       "      <td>3</td>\n",
       "      <td>female</td>\n",
       "      <td>26.0</td>\n",
       "      <td>0</td>\n",
       "      <td>0</td>\n",
       "      <td>7.9250</td>\n",
       "      <td>S</td>\n",
       "      <td>Third</td>\n",
       "      <td>woman</td>\n",
       "      <td>False</td>\n",
       "      <td>NaN</td>\n",
       "      <td>Southampton</td>\n",
       "      <td>yes</td>\n",
       "      <td>True</td>\n",
       "    </tr>\n",
       "    <tr>\n",
       "      <th>3</th>\n",
       "      <td>1</td>\n",
       "      <td>1</td>\n",
       "      <td>female</td>\n",
       "      <td>35.0</td>\n",
       "      <td>1</td>\n",
       "      <td>0</td>\n",
       "      <td>53.1000</td>\n",
       "      <td>S</td>\n",
       "      <td>First</td>\n",
       "      <td>woman</td>\n",
       "      <td>False</td>\n",
       "      <td>C</td>\n",
       "      <td>Southampton</td>\n",
       "      <td>yes</td>\n",
       "      <td>False</td>\n",
       "    </tr>\n",
       "    <tr>\n",
       "      <th>4</th>\n",
       "      <td>0</td>\n",
       "      <td>3</td>\n",
       "      <td>male</td>\n",
       "      <td>35.0</td>\n",
       "      <td>0</td>\n",
       "      <td>0</td>\n",
       "      <td>8.0500</td>\n",
       "      <td>S</td>\n",
       "      <td>Third</td>\n",
       "      <td>man</td>\n",
       "      <td>True</td>\n",
       "      <td>NaN</td>\n",
       "      <td>Southampton</td>\n",
       "      <td>no</td>\n",
       "      <td>True</td>\n",
       "    </tr>\n",
       "  </tbody>\n",
       "</table>\n",
       "</div>"
      ],
      "text/plain": [
       "  survived pclass     sex   age  sibsp  parch     fare embarked  class    who  \\\n",
       "0        0      3    male  22.0      1      0   7.2500        S  Third    man   \n",
       "1        1      1  female  38.0      1      0  71.2833        C  First  woman   \n",
       "2        1      3  female  26.0      0      0   7.9250        S  Third  woman   \n",
       "3        1      1  female  35.0      1      0  53.1000        S  First  woman   \n",
       "4        0      3    male  35.0      0      0   8.0500        S  Third    man   \n",
       "\n",
       "   adult_male deck  embark_town alive  alone  \n",
       "0        True  NaN  Southampton    no  False  \n",
       "1       False    C    Cherbourg   yes  False  \n",
       "2       False  NaN  Southampton   yes   True  \n",
       "3       False    C  Southampton   yes  False  \n",
       "4        True  NaN  Southampton    no   True  "
      ]
     },
     "execution_count": 10,
     "metadata": {},
     "output_type": "execute_result"
    }
   ],
   "source": [
    "titanic.head()"
   ]
  },
  {
   "cell_type": "code",
   "execution_count": 14,
   "id": "989245bf",
   "metadata": {
    "collapsed": true
   },
   "outputs": [
    {
     "data": {
      "text/html": [
       "<div>\n",
       "<style scoped>\n",
       "    .dataframe tbody tr th:only-of-type {\n",
       "        vertical-align: middle;\n",
       "    }\n",
       "\n",
       "    .dataframe tbody tr th {\n",
       "        vertical-align: top;\n",
       "    }\n",
       "\n",
       "    .dataframe thead th {\n",
       "        text-align: right;\n",
       "    }\n",
       "</style>\n",
       "<table border=\"1\" class=\"dataframe\">\n",
       "  <thead>\n",
       "    <tr style=\"text-align: right;\">\n",
       "      <th></th>\n",
       "      <th>count</th>\n",
       "      <th>unique</th>\n",
       "      <th>top</th>\n",
       "      <th>freq</th>\n",
       "      <th>mean</th>\n",
       "      <th>std</th>\n",
       "      <th>min</th>\n",
       "      <th>25%</th>\n",
       "      <th>50%</th>\n",
       "      <th>75%</th>\n",
       "      <th>max</th>\n",
       "    </tr>\n",
       "  </thead>\n",
       "  <tbody>\n",
       "    <tr>\n",
       "      <th>survived</th>\n",
       "      <td>891</td>\n",
       "      <td>2</td>\n",
       "      <td>0</td>\n",
       "      <td>549</td>\n",
       "      <td>NaN</td>\n",
       "      <td>NaN</td>\n",
       "      <td>NaN</td>\n",
       "      <td>NaN</td>\n",
       "      <td>NaN</td>\n",
       "      <td>NaN</td>\n",
       "      <td>NaN</td>\n",
       "    </tr>\n",
       "    <tr>\n",
       "      <th>pclass</th>\n",
       "      <td>891</td>\n",
       "      <td>3</td>\n",
       "      <td>3</td>\n",
       "      <td>491</td>\n",
       "      <td>NaN</td>\n",
       "      <td>NaN</td>\n",
       "      <td>NaN</td>\n",
       "      <td>NaN</td>\n",
       "      <td>NaN</td>\n",
       "      <td>NaN</td>\n",
       "      <td>NaN</td>\n",
       "    </tr>\n",
       "    <tr>\n",
       "      <th>sex</th>\n",
       "      <td>891</td>\n",
       "      <td>2</td>\n",
       "      <td>male</td>\n",
       "      <td>577</td>\n",
       "      <td>NaN</td>\n",
       "      <td>NaN</td>\n",
       "      <td>NaN</td>\n",
       "      <td>NaN</td>\n",
       "      <td>NaN</td>\n",
       "      <td>NaN</td>\n",
       "      <td>NaN</td>\n",
       "    </tr>\n",
       "    <tr>\n",
       "      <th>age</th>\n",
       "      <td>714.0</td>\n",
       "      <td>NaN</td>\n",
       "      <td>NaN</td>\n",
       "      <td>NaN</td>\n",
       "      <td>29.699118</td>\n",
       "      <td>14.526497</td>\n",
       "      <td>0.42</td>\n",
       "      <td>20.125</td>\n",
       "      <td>28.0</td>\n",
       "      <td>38.0</td>\n",
       "      <td>80.0</td>\n",
       "    </tr>\n",
       "    <tr>\n",
       "      <th>sibsp</th>\n",
       "      <td>891.0</td>\n",
       "      <td>NaN</td>\n",
       "      <td>NaN</td>\n",
       "      <td>NaN</td>\n",
       "      <td>0.523008</td>\n",
       "      <td>1.102743</td>\n",
       "      <td>0.0</td>\n",
       "      <td>0.0</td>\n",
       "      <td>0.0</td>\n",
       "      <td>1.0</td>\n",
       "      <td>8.0</td>\n",
       "    </tr>\n",
       "    <tr>\n",
       "      <th>parch</th>\n",
       "      <td>891.0</td>\n",
       "      <td>NaN</td>\n",
       "      <td>NaN</td>\n",
       "      <td>NaN</td>\n",
       "      <td>0.381594</td>\n",
       "      <td>0.806057</td>\n",
       "      <td>0.0</td>\n",
       "      <td>0.0</td>\n",
       "      <td>0.0</td>\n",
       "      <td>0.0</td>\n",
       "      <td>6.0</td>\n",
       "    </tr>\n",
       "    <tr>\n",
       "      <th>fare</th>\n",
       "      <td>891.0</td>\n",
       "      <td>NaN</td>\n",
       "      <td>NaN</td>\n",
       "      <td>NaN</td>\n",
       "      <td>32.204208</td>\n",
       "      <td>49.693429</td>\n",
       "      <td>0.0</td>\n",
       "      <td>7.9104</td>\n",
       "      <td>14.4542</td>\n",
       "      <td>31.0</td>\n",
       "      <td>512.3292</td>\n",
       "    </tr>\n",
       "    <tr>\n",
       "      <th>embarked</th>\n",
       "      <td>889</td>\n",
       "      <td>3</td>\n",
       "      <td>S</td>\n",
       "      <td>644</td>\n",
       "      <td>NaN</td>\n",
       "      <td>NaN</td>\n",
       "      <td>NaN</td>\n",
       "      <td>NaN</td>\n",
       "      <td>NaN</td>\n",
       "      <td>NaN</td>\n",
       "      <td>NaN</td>\n",
       "    </tr>\n",
       "    <tr>\n",
       "      <th>class</th>\n",
       "      <td>891</td>\n",
       "      <td>3</td>\n",
       "      <td>Third</td>\n",
       "      <td>491</td>\n",
       "      <td>NaN</td>\n",
       "      <td>NaN</td>\n",
       "      <td>NaN</td>\n",
       "      <td>NaN</td>\n",
       "      <td>NaN</td>\n",
       "      <td>NaN</td>\n",
       "      <td>NaN</td>\n",
       "    </tr>\n",
       "    <tr>\n",
       "      <th>who</th>\n",
       "      <td>891</td>\n",
       "      <td>3</td>\n",
       "      <td>man</td>\n",
       "      <td>537</td>\n",
       "      <td>NaN</td>\n",
       "      <td>NaN</td>\n",
       "      <td>NaN</td>\n",
       "      <td>NaN</td>\n",
       "      <td>NaN</td>\n",
       "      <td>NaN</td>\n",
       "      <td>NaN</td>\n",
       "    </tr>\n",
       "    <tr>\n",
       "      <th>adult_male</th>\n",
       "      <td>891</td>\n",
       "      <td>2</td>\n",
       "      <td>True</td>\n",
       "      <td>537</td>\n",
       "      <td>NaN</td>\n",
       "      <td>NaN</td>\n",
       "      <td>NaN</td>\n",
       "      <td>NaN</td>\n",
       "      <td>NaN</td>\n",
       "      <td>NaN</td>\n",
       "      <td>NaN</td>\n",
       "    </tr>\n",
       "    <tr>\n",
       "      <th>deck</th>\n",
       "      <td>203</td>\n",
       "      <td>7</td>\n",
       "      <td>C</td>\n",
       "      <td>59</td>\n",
       "      <td>NaN</td>\n",
       "      <td>NaN</td>\n",
       "      <td>NaN</td>\n",
       "      <td>NaN</td>\n",
       "      <td>NaN</td>\n",
       "      <td>NaN</td>\n",
       "      <td>NaN</td>\n",
       "    </tr>\n",
       "    <tr>\n",
       "      <th>embark_town</th>\n",
       "      <td>889</td>\n",
       "      <td>3</td>\n",
       "      <td>Southampton</td>\n",
       "      <td>644</td>\n",
       "      <td>NaN</td>\n",
       "      <td>NaN</td>\n",
       "      <td>NaN</td>\n",
       "      <td>NaN</td>\n",
       "      <td>NaN</td>\n",
       "      <td>NaN</td>\n",
       "      <td>NaN</td>\n",
       "    </tr>\n",
       "    <tr>\n",
       "      <th>alive</th>\n",
       "      <td>891</td>\n",
       "      <td>2</td>\n",
       "      <td>no</td>\n",
       "      <td>549</td>\n",
       "      <td>NaN</td>\n",
       "      <td>NaN</td>\n",
       "      <td>NaN</td>\n",
       "      <td>NaN</td>\n",
       "      <td>NaN</td>\n",
       "      <td>NaN</td>\n",
       "      <td>NaN</td>\n",
       "    </tr>\n",
       "    <tr>\n",
       "      <th>alone</th>\n",
       "      <td>891</td>\n",
       "      <td>2</td>\n",
       "      <td>True</td>\n",
       "      <td>537</td>\n",
       "      <td>NaN</td>\n",
       "      <td>NaN</td>\n",
       "      <td>NaN</td>\n",
       "      <td>NaN</td>\n",
       "      <td>NaN</td>\n",
       "      <td>NaN</td>\n",
       "      <td>NaN</td>\n",
       "    </tr>\n",
       "  </tbody>\n",
       "</table>\n",
       "</div>"
      ],
      "text/plain": [
       "             count unique          top freq       mean        std   min  \\\n",
       "survived       891      2            0  549        NaN        NaN   NaN   \n",
       "pclass         891      3            3  491        NaN        NaN   NaN   \n",
       "sex            891      2         male  577        NaN        NaN   NaN   \n",
       "age          714.0    NaN          NaN  NaN  29.699118  14.526497  0.42   \n",
       "sibsp        891.0    NaN          NaN  NaN   0.523008   1.102743   0.0   \n",
       "parch        891.0    NaN          NaN  NaN   0.381594   0.806057   0.0   \n",
       "fare         891.0    NaN          NaN  NaN  32.204208  49.693429   0.0   \n",
       "embarked       889      3            S  644        NaN        NaN   NaN   \n",
       "class          891      3        Third  491        NaN        NaN   NaN   \n",
       "who            891      3          man  537        NaN        NaN   NaN   \n",
       "adult_male     891      2         True  537        NaN        NaN   NaN   \n",
       "deck           203      7            C   59        NaN        NaN   NaN   \n",
       "embark_town    889      3  Southampton  644        NaN        NaN   NaN   \n",
       "alive          891      2           no  549        NaN        NaN   NaN   \n",
       "alone          891      2         True  537        NaN        NaN   NaN   \n",
       "\n",
       "                25%      50%   75%       max  \n",
       "survived        NaN      NaN   NaN       NaN  \n",
       "pclass          NaN      NaN   NaN       NaN  \n",
       "sex             NaN      NaN   NaN       NaN  \n",
       "age          20.125     28.0  38.0      80.0  \n",
       "sibsp           0.0      0.0   1.0       8.0  \n",
       "parch           0.0      0.0   0.0       6.0  \n",
       "fare         7.9104  14.4542  31.0  512.3292  \n",
       "embarked        NaN      NaN   NaN       NaN  \n",
       "class           NaN      NaN   NaN       NaN  \n",
       "who             NaN      NaN   NaN       NaN  \n",
       "adult_male      NaN      NaN   NaN       NaN  \n",
       "deck            NaN      NaN   NaN       NaN  \n",
       "embark_town     NaN      NaN   NaN       NaN  \n",
       "alive           NaN      NaN   NaN       NaN  \n",
       "alone           NaN      NaN   NaN       NaN  "
      ]
     },
     "execution_count": 14,
     "metadata": {},
     "output_type": "execute_result"
    }
   ],
   "source": [
    "titanic.describe(include='all').T  \n",
    "# 수치형 변수에 대한 기초통계량 확인 가능\n",
    "# include = all : 범주형 변수의 unique, top, freq 값"
   ]
  },
  {
   "cell_type": "code",
   "execution_count": 22,
   "id": "228e04f4",
   "metadata": {
    "collapsed": true
   },
   "outputs": [
    {
     "name": "stdout",
     "output_type": "stream",
     "text": [
      "[pclass] pclass\n",
      "1    216\n",
      "2    184\n",
      "3    491\n",
      "dtype: int64\n",
      "[sex] <bound method GroupBy.size of <pandas.core.groupby.generic.DataFrameGroupBy object at 0x000001D344846B30>>\n",
      "[female] survived\n",
      "0     81\n",
      "1    233\n",
      "dtype: int64\n",
      "[male] survived\n",
      "0    468\n",
      "1    109\n",
      "dtype: int64\n"
     ]
    },
    {
     "data": {
      "image/png": "[encoded data removed]",
      "text/plain": [
       "<Figure size 640x480 with 1 Axes>"
      ]
     },
     "metadata": {},
     "output_type": "display_data"
    },
    {
     "data": {
      "image/png": "[encoded data removed]",
      "text/plain": [
       "<Figure size 640x480 with 1 Axes>"
      ]
     },
     "metadata": {},
     "output_type": "display_data"
    }
   ],
   "source": [
    "# 기초 데이터 분석\n",
    "## groupby(), size() 이용 pclass 빈도수 구하기\n",
    "print('[pclass]', titanic.groupby('pclass').size())  # pclass\n",
    "\n",
    "## histogram \n",
    "plt.hist(titanic['fare']);                         # fare - 이상치 존재함\n",
    "## 데이터 분리\n",
    "data0 = titanic[titanic['survived']=='0']['fare']  # 사망자 요금 데이터\n",
    "data1 = titanic[titanic['survived']=='1']['fare']  # 생존자 요금 데이터\n",
    "fig, ax = plt.subplots()\n",
    "ax.boxplot([data0, data1]);\n",
    "\n",
    "## 빈도수 계산\n",
    "print('[sex]', titanic.groupby('sex').size)         # sex\n",
    "data0 = titanic[titanic['sex']=='female']['survived']  # 여성 생존 수\n",
    "print('[female]', pd.DataFrame(data0).groupby('survived').size())\n",
    "data1 = titanic[titanic['sex']=='male']['survived']  # 남성 생존 수\n",
    "print('[male]', pd.DataFrame(data1).groupby('survived').size())"
   ]
  },
  {
   "cell_type": "code",
   "execution_count": null,
   "id": "a4ebc0b6",
   "metadata": {},
   "outputs": [],
   "source": []
  },
  {
   "cell_type": "code",
   "execution_count": null,
   "id": "e86efa93",
   "metadata": {},
   "outputs": [],
   "source": []
  },
  {
   "cell_type": "markdown",
   "id": "f8738fd1",
   "metadata": {},
   "source": [
    "# 02. 데이터 전처리 개요"
   ]
  },
  {
   "cell_type": "markdown",
   "id": "04b5c2e0",
   "metadata": {},
   "source": [
    "## 1. 결측치 처리\n",
    "- 결측치 행 모두 버림\n",
    "- 적절한 값으로 대체 (평균값, 인접값, 최빈값 등)\n",
    "- NaN으로 표시 후 다음 분석단계로 넘김"
   ]
  },
  {
   "cell_type": "markdown",
   "id": "422a9dc4",
   "metadata": {},
   "source": [
    "**1. 결측치 확인 : isnull()**\n",
    "- 결측치인 경우 True 반환, 아닌 경우 False 반환"
   ]
  },
  {
   "cell_type": "code",
   "execution_count": 60,
   "id": "8bdf7f0b",
   "metadata": {
    "collapsed": true
   },
   "outputs": [
    {
     "data": {
      "text/plain": [
       "survived         0\n",
       "pclass           0\n",
       "sex              0\n",
       "age            177\n",
       "sibsp            0\n",
       "parch            0\n",
       "fare             0\n",
       "embarked         2\n",
       "class            0\n",
       "who              0\n",
       "adult_male       0\n",
       "deck           688\n",
       "embark_town      2\n",
       "alive            0\n",
       "alone            0\n",
       "dtype: int64"
      ]
     },
     "execution_count": 60,
     "metadata": {},
     "output_type": "execute_result"
    }
   ],
   "source": [
    "titanic.isnull().sum()\n",
    "# 타이타닉 데이터셋은 결측치가 존재함 "
   ]
  },
  {
   "cell_type": "markdown",
   "id": "99b66969",
   "metadata": {},
   "source": [
    "**2. 결측치 행 제거 : dropna()**\n",
    "- axis=0 : 결측치가 있는 모든 행 삭제\n",
    "- axis=1 : 결측치가 있는 모든 열 삭제\n",
    "- subser=['컬럼명'], axis=0 : 해당 컬럼의 결측치가 있는 모든 행 삭제"
   ]
  },
  {
   "cell_type": "code",
   "execution_count": 64,
   "id": "020313f1",
   "metadata": {},
   "outputs": [
    {
     "name": "stdout",
     "output_type": "stream",
     "text": [
      "0\n"
     ]
    },
    {
     "data": {
      "text/plain": [
       "((182, 15), (891, 15))"
      ]
     },
     "execution_count": 64,
     "metadata": {},
     "output_type": "execute_result"
    }
   ],
   "source": [
    "titanic_1 = titanic.dropna()\n",
    "print(titanic_1.isnull().sum().sum())  # 데이터프레임 결측치 전체\n",
    "titanic_1.shape, titanic.shape"
   ]
  },
  {
   "cell_type": "markdown",
   "id": "dab145f5",
   "metadata": {},
   "source": [
    "**3. 결측치 대체 : fillna()** - 평균, 최빈값, 최대, 최소 등 <br>\n",
    "- method='ffill' : 결측치 행 직전 행에 있는 값으로 대체\n",
    "- method='bfill' : 결측치 행 다음 행에 있는 값으로 대체\n",
    "- groupby() 함수를 활용해 그룹별 평균값을 구하고 대체할 수 있음"
   ]
  },
  {
   "cell_type": "code",
   "execution_count": 67,
   "id": "f050b6ed",
   "metadata": {},
   "outputs": [
    {
     "name": "stdout",
     "output_type": "stream",
     "text": [
      "age 기존 결측치 수 0\n",
      "결측치 대체 후 결측치 수 0\n"
     ]
    }
   ],
   "source": [
    "print('age 기존 결측치 수', titanic['age'].isnull().sum())\n",
    "\n",
    "age_mean = titanic['age'].mean()\n",
    "titanic['age'].fillna(age_mean, inplace=True)\n",
    "print('결측치 대체 후 결측치 수', titanic['age'].isnull().sum())"
   ]
  },
  {
   "cell_type": "code",
   "execution_count": 71,
   "id": "6f9dc77d",
   "metadata": {},
   "outputs": [
    {
     "name": "stdout",
     "output_type": "stream",
     "text": [
      "embarked 기존 결측치 수 2\n",
      "embarked 결측치 대체 후 결측치 수 0\n"
     ]
    }
   ],
   "source": [
    "from scipy.stats import mode\n",
    "\n",
    "print('embarked 기존 결측치 수', titanic['embark_town'].isnull().sum())\n",
    "\n",
    "embarked_mode = titanic['embark_town'].mode()\n",
    "titanic['embark_town'].fillna(embarked_mode[0], inplace=True)\n",
    "print('embarked 결측치 대체 후 결측치 수', titanic['embark_town'].isnull().sum())"
   ]
  },
  {
   "cell_type": "code",
   "execution_count": 78,
   "id": "2a76f6da",
   "metadata": {},
   "outputs": [
    {
     "data": {
      "text/html": [
       "<div>\n",
       "<style scoped>\n",
       "    .dataframe tbody tr th:only-of-type {\n",
       "        vertical-align: middle;\n",
       "    }\n",
       "\n",
       "    .dataframe tbody tr th {\n",
       "        vertical-align: top;\n",
       "    }\n",
       "\n",
       "    .dataframe thead th {\n",
       "        text-align: right;\n",
       "    }\n",
       "</style>\n",
       "<table border=\"1\" class=\"dataframe\">\n",
       "  <thead>\n",
       "    <tr style=\"text-align: right;\">\n",
       "      <th></th>\n",
       "      <th>survived</th>\n",
       "      <th>pclass</th>\n",
       "      <th>sex</th>\n",
       "      <th>age</th>\n",
       "      <th>sibsp</th>\n",
       "      <th>parch</th>\n",
       "      <th>fare</th>\n",
       "      <th>embarked</th>\n",
       "      <th>class</th>\n",
       "      <th>who</th>\n",
       "      <th>adult_male</th>\n",
       "      <th>deck</th>\n",
       "      <th>embark_town</th>\n",
       "      <th>alive</th>\n",
       "      <th>alone</th>\n",
       "    </tr>\n",
       "  </thead>\n",
       "  <tbody>\n",
       "    <tr>\n",
       "      <th>886</th>\n",
       "      <td>0</td>\n",
       "      <td>2</td>\n",
       "      <td>male</td>\n",
       "      <td>27.000000</td>\n",
       "      <td>0</td>\n",
       "      <td>0</td>\n",
       "      <td>13.00</td>\n",
       "      <td>S</td>\n",
       "      <td>Second</td>\n",
       "      <td>man</td>\n",
       "      <td>True</td>\n",
       "      <td>NaN</td>\n",
       "      <td>Southampton</td>\n",
       "      <td>no</td>\n",
       "      <td>True</td>\n",
       "    </tr>\n",
       "    <tr>\n",
       "      <th>887</th>\n",
       "      <td>1</td>\n",
       "      <td>1</td>\n",
       "      <td>female</td>\n",
       "      <td>19.000000</td>\n",
       "      <td>0</td>\n",
       "      <td>0</td>\n",
       "      <td>30.00</td>\n",
       "      <td>S</td>\n",
       "      <td>First</td>\n",
       "      <td>woman</td>\n",
       "      <td>False</td>\n",
       "      <td>B</td>\n",
       "      <td>Southampton</td>\n",
       "      <td>yes</td>\n",
       "      <td>True</td>\n",
       "    </tr>\n",
       "    <tr>\n",
       "      <th>888</th>\n",
       "      <td>0</td>\n",
       "      <td>3</td>\n",
       "      <td>female</td>\n",
       "      <td>29.699118</td>\n",
       "      <td>1</td>\n",
       "      <td>2</td>\n",
       "      <td>23.45</td>\n",
       "      <td>S</td>\n",
       "      <td>Third</td>\n",
       "      <td>woman</td>\n",
       "      <td>False</td>\n",
       "      <td>NaN</td>\n",
       "      <td>Southampton</td>\n",
       "      <td>no</td>\n",
       "      <td>False</td>\n",
       "    </tr>\n",
       "    <tr>\n",
       "      <th>889</th>\n",
       "      <td>1</td>\n",
       "      <td>1</td>\n",
       "      <td>male</td>\n",
       "      <td>26.000000</td>\n",
       "      <td>0</td>\n",
       "      <td>0</td>\n",
       "      <td>30.00</td>\n",
       "      <td>C</td>\n",
       "      <td>First</td>\n",
       "      <td>man</td>\n",
       "      <td>True</td>\n",
       "      <td>C</td>\n",
       "      <td>Cherbourg</td>\n",
       "      <td>yes</td>\n",
       "      <td>True</td>\n",
       "    </tr>\n",
       "    <tr>\n",
       "      <th>890</th>\n",
       "      <td>0</td>\n",
       "      <td>3</td>\n",
       "      <td>male</td>\n",
       "      <td>32.000000</td>\n",
       "      <td>0</td>\n",
       "      <td>0</td>\n",
       "      <td>7.75</td>\n",
       "      <td>Q</td>\n",
       "      <td>Third</td>\n",
       "      <td>man</td>\n",
       "      <td>True</td>\n",
       "      <td>NaN</td>\n",
       "      <td>Queenstown</td>\n",
       "      <td>no</td>\n",
       "      <td>True</td>\n",
       "    </tr>\n",
       "  </tbody>\n",
       "</table>\n",
       "</div>"
      ],
      "text/plain": [
       "    survived pclass     sex        age  sibsp  parch   fare embarked   class  \\\n",
       "886        0      2    male  27.000000      0      0  13.00        S  Second   \n",
       "887        1      1  female  19.000000      0      0  30.00        S   First   \n",
       "888        0      3  female  29.699118      1      2  23.45        S   Third   \n",
       "889        1      1    male  26.000000      0      0  30.00        C   First   \n",
       "890        0      3    male  32.000000      0      0   7.75        Q   Third   \n",
       "\n",
       "       who  adult_male deck  embark_town alive  alone  \n",
       "886    man        True  NaN  Southampton    no   True  \n",
       "887  woman       False    B  Southampton   yes   True  \n",
       "888  woman       False  NaN  Southampton    no  False  \n",
       "889    man        True    C    Cherbourg   yes   True  \n",
       "890    man        True  NaN   Queenstown    no   True  "
      ]
     },
     "execution_count": 78,
     "metadata": {},
     "output_type": "execute_result"
    }
   ],
   "source": [
    "# groupby() 함수를 활용해 그룹별 평균값을 구하고 대체\n",
    "titanic['age'].fillna(titanic.groupby('pclass')['age'].transform('mean'), inplace=True)\n",
    "                            # pclass별 그루핑, age 컬럼에 mean 함수 적용\n",
    "                            # transform() 함수 : 판다스 객체에 주어진 함수를 적용\n",
    "titanic.tail()"
   ]
  },
  {
   "cell_type": "markdown",
   "id": "742334a7",
   "metadata": {},
   "source": [
    "## 2. 틀린(invalid)값 처리\n",
    "- 모두 버림\n",
    "- 적절한 값으로 대체\n",
    "- 분석 단계로 넘김"
   ]
  },
  {
   "cell_type": "code",
   "execution_count": null,
   "id": "ffa12b30",
   "metadata": {},
   "outputs": [],
   "source": []
  },
  {
   "cell_type": "code",
   "execution_count": null,
   "id": "e9861a00",
   "metadata": {},
   "outputs": [],
   "source": []
  },
  {
   "cell_type": "markdown",
   "id": "dd55e570",
   "metadata": {},
   "source": [
    "## 3. 이상치 처리"
   ]
  },
  {
   "cell_type": "code",
   "execution_count": 80,
   "id": "2516a24e",
   "metadata": {
    "collapsed": true
   },
   "outputs": [
    {
     "data": {
      "image/png": "[encoded data removed]",
      "text/plain": [
       "<Figure size 640x480 with 1 Axes>"
      ]
     },
     "metadata": {},
     "output_type": "display_data"
    }
   ],
   "source": [
    "# 데이터 생성\n",
    "import numpy as np\n",
    "import pandas as pd\n",
    "import matplotlib.pyplot as plt\n",
    "\n",
    "# 정규분포 평균 50, 표준편차 10을 가지는 데이터 200개 생성 -> 데이터프레임으로 변환\n",
    "data = 10 * np.random.randn(200) + 50\n",
    "df = pd.DataFrame({\"값\":data})\n",
    "\n",
    "# 임의의 이상치 삽입\n",
    "df.loc[201] = 2\n",
    "df.loc[202] = 100\n",
    "df.loc[203] = 10\n",
    "df.loc[204] = 110\n",
    "\n",
    "# 시각화\n",
    "plt.hist(df['값'], bins=20, rwidth=0.8)\n",
    "plt.show()"
   ]
  },
  {
   "cell_type": "markdown",
   "id": "b368be08",
   "metadata": {},
   "source": [
    "**1. IQR 방법**"
   ]
  },
  {
   "cell_type": "code",
   "execution_count": 81,
   "id": "600dfac8",
   "metadata": {
    "collapsed": true
   },
   "outputs": [
    {
     "data": {
      "image/png": "[encoded data removed]",
      "text/plain": [
       "<Figure size 640x480 with 1 Axes>"
      ]
     },
     "metadata": {},
     "output_type": "display_data"
    }
   ],
   "source": [
    "# 박스플롯\n",
    "plt.boxplot(df['값'])\n",
    "plt.show()"
   ]
  },
  {
   "cell_type": "markdown",
   "id": "7dc1ca4a",
   "metadata": {},
   "source": [
    "**quantile()** : 사분위수 구하는 함수"
   ]
  },
  {
   "cell_type": "code",
   "execution_count": 84,
   "id": "ca402995",
   "metadata": {},
   "outputs": [
    {
     "name": "stdout",
     "output_type": "stream",
     "text": [
      "44.05930150525536 50.27432826015109 56.013724414005445 11.954422908750082\n"
     ]
    }
   ],
   "source": [
    "q1 = df['값'].quantile(.25)\n",
    "q2 = df['값'].quantile(.50)\n",
    "q3 = df['값'].quantile(.75)\n",
    "IQR = q3 - q1\n",
    "\n",
    "print(q1, q2, q3, IQR)"
   ]
  },
  {
   "cell_type": "code",
   "execution_count": 85,
   "id": "15b8628a",
   "metadata": {
    "collapsed": true
   },
   "outputs": [
    {
     "name": "stdout",
     "output_type": "stream",
     "text": [
      "              값\n",
      "103   80.382471\n",
      "131   75.376812\n",
      "202  100.000000\n",
      "204  110.000000              값\n",
      "42   23.569451\n",
      "158  21.684576\n",
      "189  24.535578\n",
      "201   2.000000\n",
      "203  10.000000\n"
     ]
    }
   ],
   "source": [
    "# IQR로 이상치 검출\n",
    "condition = df['값'] > (q3 + IQR*1.5)\n",
    "upperOutlier = df[condition]\n",
    "\n",
    "condition2 = df['값'] < (q1 - IQR*1.5)\n",
    "lowerOutlier = df[condition2]\n",
    "\n",
    "print(upperOutlier, lowerOutlier)"
   ]
  },
  {
   "cell_type": "code",
   "execution_count": null,
   "id": "3af46a18",
   "metadata": {},
   "outputs": [],
   "source": []
  },
  {
   "cell_type": "code",
   "execution_count": null,
   "id": "2fc0aeaa",
   "metadata": {},
   "outputs": [],
   "source": []
  },
  {
   "cell_type": "markdown",
   "id": "178cc3e3",
   "metadata": {},
   "source": [
    "## 4. 데이터 변환\n",
    "- 수치 데이터를 범주형으로 변환\n",
    "- 일반 정규화\n",
    "- z-score 정규화\n",
    "- 로그 변환 (국가별 수출액 분포 그래프 등, 사람이 느끼는 감각의 경우, 값의 범위가 너무 큰 경우, 숫자의 증가를 곱셈으로 처리하는 것이 편한 경우)\n",
    "- 역수 변환"
   ]
  },
  {
   "cell_type": "markdown",
   "id": "40e43ae3",
   "metadata": {},
   "source": [
    "### (1) 표준 정규화\n",
    "- 변수들의 측정단위나 값의 범위가 다를 때 적용"
   ]
  },
  {
   "cell_type": "code",
   "execution_count": 24,
   "id": "d1e843b8",
   "metadata": {},
   "outputs": [
    {
     "data": {
      "text/html": [
       "<div>\n",
       "<style scoped>\n",
       "    .dataframe tbody tr th:only-of-type {\n",
       "        vertical-align: middle;\n",
       "    }\n",
       "\n",
       "    .dataframe tbody tr th {\n",
       "        vertical-align: top;\n",
       "    }\n",
       "\n",
       "    .dataframe thead th {\n",
       "        text-align: right;\n",
       "    }\n",
       "</style>\n",
       "<table border=\"1\" class=\"dataframe\">\n",
       "  <thead>\n",
       "    <tr style=\"text-align: right;\">\n",
       "      <th></th>\n",
       "      <th>한국인</th>\n",
       "      <th>일본인</th>\n",
       "    </tr>\n",
       "  </thead>\n",
       "  <tbody>\n",
       "    <tr>\n",
       "      <th>0</th>\n",
       "      <td>54.237368</td>\n",
       "      <td>35.412119</td>\n",
       "    </tr>\n",
       "    <tr>\n",
       "      <th>1</th>\n",
       "      <td>62.564913</td>\n",
       "      <td>30.353651</td>\n",
       "    </tr>\n",
       "    <tr>\n",
       "      <th>2</th>\n",
       "      <td>54.976361</td>\n",
       "      <td>41.031143</td>\n",
       "    </tr>\n",
       "    <tr>\n",
       "      <th>3</th>\n",
       "      <td>51.833626</td>\n",
       "      <td>27.075841</td>\n",
       "    </tr>\n",
       "    <tr>\n",
       "      <th>4</th>\n",
       "      <td>43.940083</td>\n",
       "      <td>33.728548</td>\n",
       "    </tr>\n",
       "  </tbody>\n",
       "</table>\n",
       "</div>"
      ],
      "text/plain": [
       "         한국인        일본인\n",
       "0  54.237368  35.412119\n",
       "1  62.564913  30.353651\n",
       "2  54.976361  41.031143\n",
       "3  51.833626  27.075841\n",
       "4  43.940083  33.728548"
      ]
     },
     "execution_count": 24,
     "metadata": {},
     "output_type": "execute_result"
    }
   ],
   "source": [
    "# 데이터 생성\n",
    "import numpy as np\n",
    "meat_consumption_korean = 5*np.random.randn(1000) + 53.9\n",
    "meat_consumption_japan = 4*np.random.randn(1000) + 32.7\n",
    "\n",
    "meat_consumption = pd.DataFrame({\"한국인\":meat_consumption_korean, \"일본인\":meat_consumption_japan})\n",
    "meat_consumption.head()"
   ]
  },
  {
   "cell_type": "code",
   "execution_count": 26,
   "id": "5afc5fdb",
   "metadata": {
    "collapsed": true
   },
   "outputs": [
    {
     "data": {
      "image/png": "[encoded data removed]",
      "text/plain": [
       "<Figure size 640x480 with 1 Axes>"
      ]
     },
     "metadata": {},
     "output_type": "display_data"
    },
    {
     "data": {
      "image/png": "[encoded data removed]",
      "text/plain": [
       "<Figure size 640x480 with 1 Axes>"
      ]
     },
     "metadata": {},
     "output_type": "display_data"
    }
   ],
   "source": [
    "# 히스토그램 시각화\n",
    "plt.hist(meat_consumption_korean)\n",
    "plt.xlabel('Korea')\n",
    "plt.show()\n",
    "\n",
    "plt.hist(meat_consumption_japan)\n",
    "plt.xlabel('Japan')\n",
    "plt.show()"
   ]
  },
  {
   "cell_type": "markdown",
   "id": "0240b053",
   "metadata": {},
   "source": [
    "### z-score 표준화"
   ]
  },
  {
   "cell_type": "markdown",
   "id": "93326e92",
   "metadata": {},
   "source": [
    "**1. scipy 모듈 사용 표준화** - zscore() 함수 사용"
   ]
  },
  {
   "cell_type": "code",
   "execution_count": 28,
   "id": "0c7e1796",
   "metadata": {},
   "outputs": [
    {
     "data": {
      "text/html": [
       "<div>\n",
       "<style scoped>\n",
       "    .dataframe tbody tr th:only-of-type {\n",
       "        vertical-align: middle;\n",
       "    }\n",
       "\n",
       "    .dataframe tbody tr th {\n",
       "        vertical-align: top;\n",
       "    }\n",
       "\n",
       "    .dataframe thead th {\n",
       "        text-align: right;\n",
       "    }\n",
       "</style>\n",
       "<table border=\"1\" class=\"dataframe\">\n",
       "  <thead>\n",
       "    <tr style=\"text-align: right;\">\n",
       "      <th></th>\n",
       "      <th>한국인</th>\n",
       "      <th>일본인</th>\n",
       "      <th>z_score_kor</th>\n",
       "      <th>z_score_jap</th>\n",
       "    </tr>\n",
       "  </thead>\n",
       "  <tbody>\n",
       "    <tr>\n",
       "      <th>0</th>\n",
       "      <td>54.237368</td>\n",
       "      <td>35.412119</td>\n",
       "      <td>0.043762</td>\n",
       "      <td>0.707615</td>\n",
       "    </tr>\n",
       "    <tr>\n",
       "      <th>1</th>\n",
       "      <td>62.564913</td>\n",
       "      <td>30.353651</td>\n",
       "      <td>1.697242</td>\n",
       "      <td>-0.584828</td>\n",
       "    </tr>\n",
       "    <tr>\n",
       "      <th>2</th>\n",
       "      <td>54.976361</td>\n",
       "      <td>41.031143</td>\n",
       "      <td>0.190493</td>\n",
       "      <td>2.143280</td>\n",
       "    </tr>\n",
       "    <tr>\n",
       "      <th>3</th>\n",
       "      <td>51.833626</td>\n",
       "      <td>27.075841</td>\n",
       "      <td>-0.433514</td>\n",
       "      <td>-1.422311</td>\n",
       "    </tr>\n",
       "    <tr>\n",
       "      <th>4</th>\n",
       "      <td>43.940083</td>\n",
       "      <td>33.728548</td>\n",
       "      <td>-2.000820</td>\n",
       "      <td>0.277461</td>\n",
       "    </tr>\n",
       "  </tbody>\n",
       "</table>\n",
       "</div>"
      ],
      "text/plain": [
       "         한국인        일본인  z_score_kor  z_score_jap\n",
       "0  54.237368  35.412119     0.043762     0.707615\n",
       "1  62.564913  30.353651     1.697242    -0.584828\n",
       "2  54.976361  41.031143     0.190493     2.143280\n",
       "3  51.833626  27.075841    -0.433514    -1.422311\n",
       "4  43.940083  33.728548    -2.000820     0.277461"
      ]
     },
     "execution_count": 28,
     "metadata": {},
     "output_type": "execute_result"
    }
   ],
   "source": [
    "# scipy 모듈 사용 표준화 \n",
    "import scipy.stats as ss  \n",
    "\n",
    "meat_consumption['z_score_kor'] = ss.zscore(meat_consumption_korean)\n",
    "meat_consumption['z_score_jap'] = ss.zscore(meat_consumption_japan)\n",
    "meat_consumption.head()"
   ]
  },
  {
   "cell_type": "markdown",
   "id": "ccecb159",
   "metadata": {},
   "source": [
    "**2. 직접 계산해서 표준화** - (변수-평균)/표준편차"
   ]
  },
  {
   "cell_type": "code",
   "execution_count": 29,
   "id": "1f70a774",
   "metadata": {},
   "outputs": [
    {
     "data": {
      "text/plain": [
       "(54.016964559826256, 54.016964559826256)"
      ]
     },
     "execution_count": 29,
     "metadata": {},
     "output_type": "execute_result"
    }
   ],
   "source": [
    "meat_consumption_korean.mean(), np.mean(meat_consumption_korean)"
   ]
  },
  {
   "cell_type": "code",
   "execution_count": 30,
   "id": "7324b49f",
   "metadata": {},
   "outputs": [
    {
     "data": {
      "text/html": [
       "<div>\n",
       "<style scoped>\n",
       "    .dataframe tbody tr th:only-of-type {\n",
       "        vertical-align: middle;\n",
       "    }\n",
       "\n",
       "    .dataframe tbody tr th {\n",
       "        vertical-align: top;\n",
       "    }\n",
       "\n",
       "    .dataframe thead th {\n",
       "        text-align: right;\n",
       "    }\n",
       "</style>\n",
       "<table border=\"1\" class=\"dataframe\">\n",
       "  <thead>\n",
       "    <tr style=\"text-align: right;\">\n",
       "      <th></th>\n",
       "      <th>한국인</th>\n",
       "      <th>일본인</th>\n",
       "      <th>z_score_kor</th>\n",
       "      <th>z_score_jap</th>\n",
       "      <th>z_kor</th>\n",
       "      <th>z_jap</th>\n",
       "    </tr>\n",
       "  </thead>\n",
       "  <tbody>\n",
       "    <tr>\n",
       "      <th>0</th>\n",
       "      <td>54.237368</td>\n",
       "      <td>35.412119</td>\n",
       "      <td>0.043762</td>\n",
       "      <td>0.707615</td>\n",
       "      <td>0.043762</td>\n",
       "      <td>0.707615</td>\n",
       "    </tr>\n",
       "    <tr>\n",
       "      <th>1</th>\n",
       "      <td>62.564913</td>\n",
       "      <td>30.353651</td>\n",
       "      <td>1.697242</td>\n",
       "      <td>-0.584828</td>\n",
       "      <td>1.697242</td>\n",
       "      <td>-0.584828</td>\n",
       "    </tr>\n",
       "    <tr>\n",
       "      <th>2</th>\n",
       "      <td>54.976361</td>\n",
       "      <td>41.031143</td>\n",
       "      <td>0.190493</td>\n",
       "      <td>2.143280</td>\n",
       "      <td>0.190493</td>\n",
       "      <td>2.143280</td>\n",
       "    </tr>\n",
       "    <tr>\n",
       "      <th>3</th>\n",
       "      <td>51.833626</td>\n",
       "      <td>27.075841</td>\n",
       "      <td>-0.433514</td>\n",
       "      <td>-1.422311</td>\n",
       "      <td>-0.433514</td>\n",
       "      <td>-1.422311</td>\n",
       "    </tr>\n",
       "    <tr>\n",
       "      <th>4</th>\n",
       "      <td>43.940083</td>\n",
       "      <td>33.728548</td>\n",
       "      <td>-2.000820</td>\n",
       "      <td>0.277461</td>\n",
       "      <td>-2.000820</td>\n",
       "      <td>0.277461</td>\n",
       "    </tr>\n",
       "  </tbody>\n",
       "</table>\n",
       "</div>"
      ],
      "text/plain": [
       "         한국인        일본인  z_score_kor  z_score_jap     z_kor     z_jap\n",
       "0  54.237368  35.412119     0.043762     0.707615  0.043762  0.707615\n",
       "1  62.564913  30.353651     1.697242    -0.584828  1.697242 -0.584828\n",
       "2  54.976361  41.031143     0.190493     2.143280  0.190493  2.143280\n",
       "3  51.833626  27.075841    -0.433514    -1.422311 -0.433514 -1.422311\n",
       "4  43.940083  33.728548    -2.000820     0.277461 -2.000820  0.277461"
      ]
     },
     "execution_count": 30,
     "metadata": {},
     "output_type": "execute_result"
    }
   ],
   "source": [
    "meat_consumption['z_kor'] = (meat_consumption_korean - meat_consumption_korean.mean())/meat_consumption_korean.std()\n",
    "meat_consumption['z_jap'] = (meat_consumption_japan - meat_consumption_japan.mean())/meat_consumption_japan.std()\n",
    "meat_consumption.head()"
   ]
  },
  {
   "cell_type": "markdown",
   "id": "a1c92377",
   "metadata": {},
   "source": [
    "**3.scikitlearn scaler 사용 표준화**"
   ]
  },
  {
   "cell_type": "code",
   "execution_count": 34,
   "id": "36639b0b",
   "metadata": {},
   "outputs": [
    {
     "data": {
      "text/html": [
       "<div>\n",
       "<style scoped>\n",
       "    .dataframe tbody tr th:only-of-type {\n",
       "        vertical-align: middle;\n",
       "    }\n",
       "\n",
       "    .dataframe tbody tr th {\n",
       "        vertical-align: top;\n",
       "    }\n",
       "\n",
       "    .dataframe thead th {\n",
       "        text-align: right;\n",
       "    }\n",
       "</style>\n",
       "<table border=\"1\" class=\"dataframe\">\n",
       "  <thead>\n",
       "    <tr style=\"text-align: right;\">\n",
       "      <th></th>\n",
       "      <th>한국인</th>\n",
       "      <th>일본인</th>\n",
       "      <th>z_score_kor</th>\n",
       "      <th>z_score_jap</th>\n",
       "      <th>z_kor</th>\n",
       "      <th>z_jap</th>\n",
       "      <th>z_kor_sklearn</th>\n",
       "      <th>z_jap_sklearn</th>\n",
       "    </tr>\n",
       "  </thead>\n",
       "  <tbody>\n",
       "    <tr>\n",
       "      <th>0</th>\n",
       "      <td>54.237368</td>\n",
       "      <td>35.412119</td>\n",
       "      <td>0.043762</td>\n",
       "      <td>0.707615</td>\n",
       "      <td>0.043762</td>\n",
       "      <td>0.707615</td>\n",
       "      <td>0.043762</td>\n",
       "      <td>0.707615</td>\n",
       "    </tr>\n",
       "    <tr>\n",
       "      <th>1</th>\n",
       "      <td>62.564913</td>\n",
       "      <td>30.353651</td>\n",
       "      <td>1.697242</td>\n",
       "      <td>-0.584828</td>\n",
       "      <td>1.697242</td>\n",
       "      <td>-0.584828</td>\n",
       "      <td>1.697242</td>\n",
       "      <td>-0.584828</td>\n",
       "    </tr>\n",
       "    <tr>\n",
       "      <th>2</th>\n",
       "      <td>54.976361</td>\n",
       "      <td>41.031143</td>\n",
       "      <td>0.190493</td>\n",
       "      <td>2.143280</td>\n",
       "      <td>0.190493</td>\n",
       "      <td>2.143280</td>\n",
       "      <td>0.190493</td>\n",
       "      <td>2.143280</td>\n",
       "    </tr>\n",
       "    <tr>\n",
       "      <th>3</th>\n",
       "      <td>51.833626</td>\n",
       "      <td>27.075841</td>\n",
       "      <td>-0.433514</td>\n",
       "      <td>-1.422311</td>\n",
       "      <td>-0.433514</td>\n",
       "      <td>-1.422311</td>\n",
       "      <td>-0.433514</td>\n",
       "      <td>-1.422311</td>\n",
       "    </tr>\n",
       "    <tr>\n",
       "      <th>4</th>\n",
       "      <td>43.940083</td>\n",
       "      <td>33.728548</td>\n",
       "      <td>-2.000820</td>\n",
       "      <td>0.277461</td>\n",
       "      <td>-2.000820</td>\n",
       "      <td>0.277461</td>\n",
       "      <td>-2.000820</td>\n",
       "      <td>0.277461</td>\n",
       "    </tr>\n",
       "  </tbody>\n",
       "</table>\n",
       "</div>"
      ],
      "text/plain": [
       "         한국인        일본인  z_score_kor  z_score_jap     z_kor     z_jap  \\\n",
       "0  54.237368  35.412119     0.043762     0.707615  0.043762  0.707615   \n",
       "1  62.564913  30.353651     1.697242    -0.584828  1.697242 -0.584828   \n",
       "2  54.976361  41.031143     0.190493     2.143280  0.190493  2.143280   \n",
       "3  51.833626  27.075841    -0.433514    -1.422311 -0.433514 -1.422311   \n",
       "4  43.940083  33.728548    -2.000820     0.277461 -2.000820  0.277461   \n",
       "\n",
       "   z_kor_sklearn  z_jap_sklearn  \n",
       "0       0.043762       0.707615  \n",
       "1       1.697242      -0.584828  \n",
       "2       0.190493       2.143280  \n",
       "3      -0.433514      -1.422311  \n",
       "4      -2.000820       0.277461  "
      ]
     },
     "execution_count": 34,
     "metadata": {},
     "output_type": "execute_result"
    }
   ],
   "source": [
    "from sklearn.preprocessing import StandardScaler\n",
    "\n",
    "scaler = StandardScaler()\n",
    "meat_consumption['z_kor_sklearn'] = scaler.fit_transform(meat_consumption[['한국인']])\n",
    "meat_consumption['z_jap_sklearn'] = scaler.fit_transform(meat_consumption[['일본인']])\n",
    "meat_consumption.head()"
   ]
  },
  {
   "cell_type": "markdown",
   "id": "5f20df65",
   "metadata": {},
   "source": [
    "**4. 표준화된 데이터 히스토그램 확인**"
   ]
  },
  {
   "cell_type": "code",
   "execution_count": 32,
   "id": "dcbb3fa7",
   "metadata": {
    "collapsed": true
   },
   "outputs": [
    {
     "data": {
      "image/png": "[encoded data removed]",
      "text/plain": [
       "<Figure size 640x480 with 1 Axes>"
      ]
     },
     "metadata": {},
     "output_type": "display_data"
    },
    {
     "data": {
      "image/png": "[encoded data removed]",
      "text/plain": [
       "<Figure size 640x480 with 1 Axes>"
      ]
     },
     "metadata": {},
     "output_type": "display_data"
    }
   ],
   "source": [
    "plt.hist(meat_consumption['z_kor'])\n",
    "plt.xlabel('korean')\n",
    "plt.show()\n",
    "\n",
    "plt.hist(meat_consumption['z_jap'])\n",
    "plt.xlabel('japan')\n",
    "plt.show()\n",
    "\n",
    "# -3 ~ 3범위로 바뀜"
   ]
  },
  {
   "cell_type": "markdown",
   "id": "fe199d83",
   "metadata": {},
   "source": [
    "### Min-Max 표준화\n",
    "연속형 변수의 값을 0~1 사이의 값으로 변환"
   ]
  },
  {
   "cell_type": "markdown",
   "id": "3026e9af",
   "metadata": {},
   "source": [
    "**1. MinMaxScaler() 사용 표준화**"
   ]
  },
  {
   "cell_type": "code",
   "execution_count": 38,
   "id": "c2da141a",
   "metadata": {},
   "outputs": [
    {
     "data": {
      "text/html": [
       "<div>\n",
       "<style scoped>\n",
       "    .dataframe tbody tr th:only-of-type {\n",
       "        vertical-align: middle;\n",
       "    }\n",
       "\n",
       "    .dataframe tbody tr th {\n",
       "        vertical-align: top;\n",
       "    }\n",
       "\n",
       "    .dataframe thead th {\n",
       "        text-align: right;\n",
       "    }\n",
       "</style>\n",
       "<table border=\"1\" class=\"dataframe\">\n",
       "  <thead>\n",
       "    <tr style=\"text-align: right;\">\n",
       "      <th></th>\n",
       "      <th>한국인</th>\n",
       "      <th>일본인</th>\n",
       "      <th>한국인_mm</th>\n",
       "      <th>일본인_mm</th>\n",
       "    </tr>\n",
       "  </thead>\n",
       "  <tbody>\n",
       "    <tr>\n",
       "      <th>0</th>\n",
       "      <td>54.237368</td>\n",
       "      <td>35.412119</td>\n",
       "      <td>0.493814</td>\n",
       "      <td>0.663987</td>\n",
       "    </tr>\n",
       "    <tr>\n",
       "      <th>1</th>\n",
       "      <td>62.564913</td>\n",
       "      <td>30.353651</td>\n",
       "      <td>0.742781</td>\n",
       "      <td>0.468702</td>\n",
       "    </tr>\n",
       "    <tr>\n",
       "      <th>2</th>\n",
       "      <td>54.976361</td>\n",
       "      <td>41.031143</td>\n",
       "      <td>0.515907</td>\n",
       "      <td>0.880913</td>\n",
       "    </tr>\n",
       "    <tr>\n",
       "      <th>3</th>\n",
       "      <td>51.833626</td>\n",
       "      <td>27.075841</td>\n",
       "      <td>0.421950</td>\n",
       "      <td>0.342160</td>\n",
       "    </tr>\n",
       "    <tr>\n",
       "      <th>4</th>\n",
       "      <td>43.940083</td>\n",
       "      <td>33.728548</td>\n",
       "      <td>0.185958</td>\n",
       "      <td>0.598992</td>\n",
       "    </tr>\n",
       "  </tbody>\n",
       "</table>\n",
       "</div>"
      ],
      "text/plain": [
       "         한국인        일본인    한국인_mm    일본인_mm\n",
       "0  54.237368  35.412119  0.493814  0.663987\n",
       "1  62.564913  30.353651  0.742781  0.468702\n",
       "2  54.976361  41.031143  0.515907  0.880913\n",
       "3  51.833626  27.075841  0.421950  0.342160\n",
       "4  43.940083  33.728548  0.185958  0.598992"
      ]
     },
     "execution_count": 38,
     "metadata": {},
     "output_type": "execute_result"
    }
   ],
   "source": [
    "from sklearn.preprocessing import MinMaxScaler\n",
    "\n",
    "scaler = MinMaxScaler()\n",
    "meat_consumption['한국인_mm'] = scaler.fit_transform(meat_consumption[['한국인']])\n",
    "meat_consumption['일본인_mm'] = scaler.fit_transform(meat_consumption[['일본인']])\n",
    "meat_consumption[['한국인','일본인','한국인_mm','일본인_mm']].head()"
   ]
  },
  {
   "cell_type": "markdown",
   "id": "7c3cb713",
   "metadata": {},
   "source": [
    "**2. 직접 계산**"
   ]
  },
  {
   "cell_type": "code",
   "execution_count": 40,
   "id": "8d7203bd",
   "metadata": {},
   "outputs": [
    {
     "data": {
      "text/html": [
       "<div>\n",
       "<style scoped>\n",
       "    .dataframe tbody tr th:only-of-type {\n",
       "        vertical-align: middle;\n",
       "    }\n",
       "\n",
       "    .dataframe tbody tr th {\n",
       "        vertical-align: top;\n",
       "    }\n",
       "\n",
       "    .dataframe thead th {\n",
       "        text-align: right;\n",
       "    }\n",
       "</style>\n",
       "<table border=\"1\" class=\"dataframe\">\n",
       "  <thead>\n",
       "    <tr style=\"text-align: right;\">\n",
       "      <th></th>\n",
       "      <th>한국인</th>\n",
       "      <th>일본인</th>\n",
       "      <th>한국인_mm</th>\n",
       "      <th>일본인_mm</th>\n",
       "      <th>한국인_mm2</th>\n",
       "      <th>일본인_mm2</th>\n",
       "    </tr>\n",
       "  </thead>\n",
       "  <tbody>\n",
       "    <tr>\n",
       "      <th>0</th>\n",
       "      <td>54.237368</td>\n",
       "      <td>35.412119</td>\n",
       "      <td>0.493814</td>\n",
       "      <td>0.663987</td>\n",
       "      <td>0.493814</td>\n",
       "      <td>0.663987</td>\n",
       "    </tr>\n",
       "    <tr>\n",
       "      <th>1</th>\n",
       "      <td>62.564913</td>\n",
       "      <td>30.353651</td>\n",
       "      <td>0.742781</td>\n",
       "      <td>0.468702</td>\n",
       "      <td>0.742781</td>\n",
       "      <td>0.468702</td>\n",
       "    </tr>\n",
       "    <tr>\n",
       "      <th>2</th>\n",
       "      <td>54.976361</td>\n",
       "      <td>41.031143</td>\n",
       "      <td>0.515907</td>\n",
       "      <td>0.880913</td>\n",
       "      <td>0.515907</td>\n",
       "      <td>0.880913</td>\n",
       "    </tr>\n",
       "    <tr>\n",
       "      <th>3</th>\n",
       "      <td>51.833626</td>\n",
       "      <td>27.075841</td>\n",
       "      <td>0.421950</td>\n",
       "      <td>0.342160</td>\n",
       "      <td>0.421950</td>\n",
       "      <td>0.342160</td>\n",
       "    </tr>\n",
       "    <tr>\n",
       "      <th>4</th>\n",
       "      <td>43.940083</td>\n",
       "      <td>33.728548</td>\n",
       "      <td>0.185958</td>\n",
       "      <td>0.598992</td>\n",
       "      <td>0.185958</td>\n",
       "      <td>0.598992</td>\n",
       "    </tr>\n",
       "  </tbody>\n",
       "</table>\n",
       "</div>"
      ],
      "text/plain": [
       "         한국인        일본인    한국인_mm    일본인_mm   한국인_mm2   일본인_mm2\n",
       "0  54.237368  35.412119  0.493814  0.663987  0.493814  0.663987\n",
       "1  62.564913  30.353651  0.742781  0.468702  0.742781  0.468702\n",
       "2  54.976361  41.031143  0.515907  0.880913  0.515907  0.880913\n",
       "3  51.833626  27.075841  0.421950  0.342160  0.421950  0.342160\n",
       "4  43.940083  33.728548  0.185958  0.598992  0.185958  0.598992"
      ]
     },
     "execution_count": 40,
     "metadata": {},
     "output_type": "execute_result"
    }
   ],
   "source": [
    "Min = meat_consumption[['한국인']].min()\n",
    "Max = meat_consumption[['한국인']].max()\n",
    "meat_consumption['한국인_mm2'] = (meat_consumption[['한국인']]-Min)/(Max-Min)\n",
    "\n",
    "Min = meat_consumption[['일본인']].min()\n",
    "Max = meat_consumption[['일본인']].max()\n",
    "meat_consumption['일본인_mm2'] = (meat_consumption[['일본인']]-Min)/(Max-Min)\n",
    "meat_consumption[['한국인','일본인','한국인_mm','일본인_mm','한국인_mm2','일본인_mm2']].head()"
   ]
  },
  {
   "cell_type": "markdown",
   "id": "707e0f7c",
   "metadata": {},
   "source": [
    "### (2) 정규분포변환\n",
    "- 분포의 대칭 척도인 왜도가 0이 아닌 경우 분포가 한쪽으로 치우쳐져 있으며, 이 분포에서는 중심 경향 측정값(평균, 중앙값, 최빈값)이 동일하지 않음\n",
    "> 왜도 > 0 : 왼쪽으로 치우침 (평균 > 중앙값 > 최빈값)<br>\n",
    "> 왜도 = 0 : 좌우 대칭 (평균 = 중앙값 = 최빈값)<br>\n",
    "> 왜도 < 0 : 오른쪽으로 치우침 (평균 < 중앙값 < 최빈값)"
   ]
  },
  {
   "cell_type": "code",
   "execution_count": 41,
   "id": "2a6f39c0",
   "metadata": {},
   "outputs": [
    {
     "data": {
      "text/html": [
       "<div>\n",
       "<style scoped>\n",
       "    .dataframe tbody tr th:only-of-type {\n",
       "        vertical-align: middle;\n",
       "    }\n",
       "\n",
       "    .dataframe tbody tr th {\n",
       "        vertical-align: top;\n",
       "    }\n",
       "\n",
       "    .dataframe thead th {\n",
       "        text-align: right;\n",
       "    }\n",
       "</style>\n",
       "<table border=\"1\" class=\"dataframe\">\n",
       "  <thead>\n",
       "    <tr style=\"text-align: right;\">\n",
       "      <th></th>\n",
       "      <th>rownames</th>\n",
       "      <th>CONT</th>\n",
       "      <th>INTG</th>\n",
       "      <th>DMNR</th>\n",
       "      <th>DILG</th>\n",
       "      <th>CFMG</th>\n",
       "      <th>DECI</th>\n",
       "      <th>PREP</th>\n",
       "      <th>FAMI</th>\n",
       "      <th>ORAL</th>\n",
       "      <th>WRIT</th>\n",
       "      <th>PHYS</th>\n",
       "      <th>RTEN</th>\n",
       "    </tr>\n",
       "  </thead>\n",
       "  <tbody>\n",
       "    <tr>\n",
       "      <th>0</th>\n",
       "      <td>AARONSON,L.H.</td>\n",
       "      <td>5.7</td>\n",
       "      <td>7.9</td>\n",
       "      <td>7.7</td>\n",
       "      <td>7.3</td>\n",
       "      <td>7.1</td>\n",
       "      <td>7.4</td>\n",
       "      <td>7.1</td>\n",
       "      <td>7.1</td>\n",
       "      <td>7.1</td>\n",
       "      <td>7.0</td>\n",
       "      <td>8.3</td>\n",
       "      <td>7.8</td>\n",
       "    </tr>\n",
       "    <tr>\n",
       "      <th>1</th>\n",
       "      <td>ALEXANDER,J.M.</td>\n",
       "      <td>6.8</td>\n",
       "      <td>8.9</td>\n",
       "      <td>8.8</td>\n",
       "      <td>8.5</td>\n",
       "      <td>7.8</td>\n",
       "      <td>8.1</td>\n",
       "      <td>8.0</td>\n",
       "      <td>8.0</td>\n",
       "      <td>7.8</td>\n",
       "      <td>7.9</td>\n",
       "      <td>8.5</td>\n",
       "      <td>8.7</td>\n",
       "    </tr>\n",
       "    <tr>\n",
       "      <th>2</th>\n",
       "      <td>ARMENTANO,A.J.</td>\n",
       "      <td>7.2</td>\n",
       "      <td>8.1</td>\n",
       "      <td>7.8</td>\n",
       "      <td>7.8</td>\n",
       "      <td>7.5</td>\n",
       "      <td>7.6</td>\n",
       "      <td>7.5</td>\n",
       "      <td>7.5</td>\n",
       "      <td>7.3</td>\n",
       "      <td>7.4</td>\n",
       "      <td>7.9</td>\n",
       "      <td>7.8</td>\n",
       "    </tr>\n",
       "    <tr>\n",
       "      <th>3</th>\n",
       "      <td>BERDON,R.I.</td>\n",
       "      <td>6.8</td>\n",
       "      <td>8.8</td>\n",
       "      <td>8.5</td>\n",
       "      <td>8.8</td>\n",
       "      <td>8.3</td>\n",
       "      <td>8.5</td>\n",
       "      <td>8.7</td>\n",
       "      <td>8.7</td>\n",
       "      <td>8.4</td>\n",
       "      <td>8.5</td>\n",
       "      <td>8.8</td>\n",
       "      <td>8.7</td>\n",
       "    </tr>\n",
       "    <tr>\n",
       "      <th>4</th>\n",
       "      <td>BRACKEN,J.J.</td>\n",
       "      <td>7.3</td>\n",
       "      <td>6.4</td>\n",
       "      <td>4.3</td>\n",
       "      <td>6.5</td>\n",
       "      <td>6.0</td>\n",
       "      <td>6.2</td>\n",
       "      <td>5.7</td>\n",
       "      <td>5.7</td>\n",
       "      <td>5.1</td>\n",
       "      <td>5.3</td>\n",
       "      <td>5.5</td>\n",
       "      <td>4.8</td>\n",
       "    </tr>\n",
       "  </tbody>\n",
       "</table>\n",
       "</div>"
      ],
      "text/plain": [
       "         rownames  CONT  INTG  DMNR  DILG  CFMG  DECI  PREP  FAMI  ORAL  WRIT  \\\n",
       "0   AARONSON,L.H.   5.7   7.9   7.7   7.3   7.1   7.4   7.1   7.1   7.1   7.0   \n",
       "1  ALEXANDER,J.M.   6.8   8.9   8.8   8.5   7.8   8.1   8.0   8.0   7.8   7.9   \n",
       "2  ARMENTANO,A.J.   7.2   8.1   7.8   7.8   7.5   7.6   7.5   7.5   7.3   7.4   \n",
       "3     BERDON,R.I.   6.8   8.8   8.5   8.8   8.3   8.5   8.7   8.7   8.4   8.5   \n",
       "4    BRACKEN,J.J.   7.3   6.4   4.3   6.5   6.0   6.2   5.7   5.7   5.1   5.3   \n",
       "\n",
       "   PHYS  RTEN  \n",
       "0   8.3   7.8  \n",
       "1   8.5   8.7  \n",
       "2   7.9   7.8  \n",
       "3   8.8   8.7  \n",
       "4   5.5   4.8  "
      ]
     },
     "execution_count": 41,
     "metadata": {},
     "output_type": "execute_result"
    }
   ],
   "source": [
    "# 데이터셋 불러오기\n",
    "df = pd.read_csv(\"https://raw.githubusercontent.com/vincentarelbundock/Rdatasets/master/csv/datasets/USJudgeRatings.csv\")\n",
    "df.head()"
   ]
  },
  {
   "cell_type": "markdown",
   "id": "fee65a2d",
   "metadata": {},
   "source": [
    "**scipy 패키지 skew() 함수 : 왜도 계산**"
   ]
  },
  {
   "cell_type": "code",
   "execution_count": 42,
   "id": "adad9ff4",
   "metadata": {},
   "outputs": [
    {
     "name": "stdout",
     "output_type": "stream",
     "text": [
      "1.0859724796276253\n",
      "-1.5582154642293153\n"
     ]
    }
   ],
   "source": [
    "import scipy.stats as ss\n",
    "print(ss.skew(df['CONT']))  # 왜도가 양수. 최빈값 < 중앙값 < 평균\n",
    "print(ss.skew(df['PHYS']))  # 왜도가 음수. 평균 < 중앙값 < 최빈값"
   ]
  },
  {
   "cell_type": "markdown",
   "id": "8613a53b",
   "metadata": {},
   "source": [
    "**1. log() 변환**\n",
    "- 왜도가 양수인 경우 : log(x)로 변환\n",
    "- 왜도가 음수인 경우 : log(max(x+1)-x)"
   ]
  },
  {
   "cell_type": "code",
   "execution_count": 43,
   "id": "e27020fa",
   "metadata": {},
   "outputs": [
    {
     "name": "stdout",
     "output_type": "stream",
     "text": [
      "0.6555571886692603\n",
      "0.5824357748750443\n"
     ]
    }
   ],
   "source": [
    "# 변수 변환 - 로그 변환\n",
    "df['CONT1'] = np.log(df['CONT'])\n",
    "df['PHYS1'] = np.log(np.max(df['PHYS']+1) - df['PHYS'])\n",
    "\n",
    "# 왜도 계산\n",
    "print(ss.skew(df['CONT1']))  \n",
    "print(ss.skew(df['PHYS1']))"
   ]
  },
  {
   "cell_type": "markdown",
   "id": "bde97dec",
   "metadata": {},
   "source": [
    "**2. log10() 변환**"
   ]
  },
  {
   "cell_type": "code",
   "execution_count": 44,
   "id": "3794344f",
   "metadata": {},
   "outputs": [
    {
     "name": "stdout",
     "output_type": "stream",
     "text": [
      "0.6555571886692441\n",
      "0.582435774875044\n"
     ]
    }
   ],
   "source": [
    "# 변수 변환 - 로그 변환\n",
    "df['CONT2'] = np.log10(df['CONT'])\n",
    "df['PHYS2'] = np.log10(np.max(df['PHYS']+1) - df['PHYS'])\n",
    "\n",
    "# 왜도 계산\n",
    "print(ss.skew(df['CONT2']))  \n",
    "print(ss.skew(df['PHYS2']))"
   ]
  },
  {
   "cell_type": "markdown",
   "id": "226defc9",
   "metadata": {},
   "source": [
    "정규화 변환의 요령\n",
    "> - 독립변수 값이 증가함에 따라 종속변수가 더 빠르게 증가하는 상황 : 로그 변환 시도\n",
    "> - 독립변수 값이 증가함에 따라 종속변수 값이 더 빠르게 감소하는 경우 : 제곱 변환 시도\n",
    "> - 로그 변환을 사용할 때는 변환 전 모든 값을 양수로 만들기 위해 모든 값에 상수를 추가해야 함"
   ]
  },
  {
   "cell_type": "markdown",
   "id": "9ec3f0c7",
   "metadata": {},
   "source": [
    "### (3) 범주화(Categorization), 이산형화(Discretization)\n",
    "- 연속형 변수를 범주형 변수로 변환하는 작업\n",
    "- 몇 개의 범주로 어떤 기준으로 나눌지 정하는 것이 중요\n",
    "- 조건문, cut(), qcut() 사용해서 범주화"
   ]
  },
  {
   "cell_type": "code",
   "execution_count": 46,
   "id": "2fb064c0",
   "metadata": {
    "collapsed": true
   },
   "outputs": [
    {
     "name": "stdout",
     "output_type": "stream",
     "text": [
      "73.5\n"
     ]
    },
    {
     "data": {
      "image/png": "[encoded data removed]",
      "text/plain": [
       "<Figure size 640x480 with 1 Axes>"
      ]
     },
     "metadata": {},
     "output_type": "display_data"
    },
    {
     "data": {
      "text/html": [
       "<div>\n",
       "<style scoped>\n",
       "    .dataframe tbody tr th:only-of-type {\n",
       "        vertical-align: middle;\n",
       "    }\n",
       "\n",
       "    .dataframe tbody tr th {\n",
       "        vertical-align: top;\n",
       "    }\n",
       "\n",
       "    .dataframe thead th {\n",
       "        text-align: right;\n",
       "    }\n",
       "</style>\n",
       "<table border=\"1\" class=\"dataframe\">\n",
       "  <thead>\n",
       "    <tr style=\"text-align: right;\">\n",
       "      <th></th>\n",
       "      <th>이름</th>\n",
       "      <th>수학점수</th>\n",
       "    </tr>\n",
       "  </thead>\n",
       "  <tbody>\n",
       "    <tr>\n",
       "      <th>0</th>\n",
       "      <td>철수</td>\n",
       "      <td>52</td>\n",
       "    </tr>\n",
       "    <tr>\n",
       "      <th>1</th>\n",
       "      <td>영희</td>\n",
       "      <td>92</td>\n",
       "    </tr>\n",
       "    <tr>\n",
       "      <th>2</th>\n",
       "      <td>미영</td>\n",
       "      <td>84</td>\n",
       "    </tr>\n",
       "    <tr>\n",
       "      <th>3</th>\n",
       "      <td>시완</td>\n",
       "      <td>71</td>\n",
       "    </tr>\n",
       "    <tr>\n",
       "      <th>4</th>\n",
       "      <td>미경</td>\n",
       "      <td>65</td>\n",
       "    </tr>\n",
       "    <tr>\n",
       "      <th>5</th>\n",
       "      <td>영환</td>\n",
       "      <td>81</td>\n",
       "    </tr>\n",
       "    <tr>\n",
       "      <th>6</th>\n",
       "      <td>숙경</td>\n",
       "      <td>66</td>\n",
       "    </tr>\n",
       "    <tr>\n",
       "      <th>7</th>\n",
       "      <td>부영</td>\n",
       "      <td>77</td>\n",
       "    </tr>\n",
       "    <tr>\n",
       "      <th>8</th>\n",
       "      <td>민섭</td>\n",
       "      <td>73</td>\n",
       "    </tr>\n",
       "    <tr>\n",
       "      <th>9</th>\n",
       "      <td>보연</td>\n",
       "      <td>74</td>\n",
       "    </tr>\n",
       "  </tbody>\n",
       "</table>\n",
       "</div>"
      ],
      "text/plain": [
       "   이름  수학점수\n",
       "0  철수    52\n",
       "1  영희    92\n",
       "2  미영    84\n",
       "3  시완    71\n",
       "4  미경    65\n",
       "5  영환    81\n",
       "6  숙경    66\n",
       "7  부영    77\n",
       "8  민섭    73\n",
       "9  보연    74"
      ]
     },
     "execution_count": 46,
     "metadata": {},
     "output_type": "execute_result"
    }
   ],
   "source": [
    "# 예제 데이터 생성\n",
    "data = [['철수', 52], ['영희', 92], ['미영', 84], ['시완', 71], ['미경', 65],\n",
    "        ['영환', 81], ['숙경', 66], ['부영', 77], ['민섭', 73], ['보연', 74]]\n",
    "df = pd.DataFrame(data, columns=['이름', '수학점수'])\n",
    "print(np.mean(df['수학점수']))\n",
    "\n",
    "# 히스토그램, 범위 50~100, 5개 구간\n",
    "plt.hist(df['수학점수'], bins=5, range=[50,100], rwidth=0.9)\n",
    "plt.show()\n",
    "df"
   ]
  },
  {
   "cell_type": "markdown",
   "id": "f5f5e9ad",
   "metadata": {},
   "source": [
    "**1. 조건으로 직접 구간 지정**"
   ]
  },
  {
   "cell_type": "code",
   "execution_count": 48,
   "id": "abf2bd22",
   "metadata": {
    "collapsed": true
   },
   "outputs": [
    {
     "data": {
      "text/html": [
       "<div>\n",
       "<style scoped>\n",
       "    .dataframe tbody tr th:only-of-type {\n",
       "        vertical-align: middle;\n",
       "    }\n",
       "\n",
       "    .dataframe tbody tr th {\n",
       "        vertical-align: top;\n",
       "    }\n",
       "\n",
       "    .dataframe thead th {\n",
       "        text-align: right;\n",
       "    }\n",
       "</style>\n",
       "<table border=\"1\" class=\"dataframe\">\n",
       "  <thead>\n",
       "    <tr style=\"text-align: right;\">\n",
       "      <th></th>\n",
       "      <th>이름</th>\n",
       "      <th>수학점수</th>\n",
       "      <th>등급</th>\n",
       "    </tr>\n",
       "  </thead>\n",
       "  <tbody>\n",
       "    <tr>\n",
       "      <th>0</th>\n",
       "      <td>철수</td>\n",
       "      <td>52</td>\n",
       "      <td>F</td>\n",
       "    </tr>\n",
       "    <tr>\n",
       "      <th>1</th>\n",
       "      <td>영희</td>\n",
       "      <td>92</td>\n",
       "      <td>A</td>\n",
       "    </tr>\n",
       "    <tr>\n",
       "      <th>2</th>\n",
       "      <td>미영</td>\n",
       "      <td>84</td>\n",
       "      <td>B</td>\n",
       "    </tr>\n",
       "    <tr>\n",
       "      <th>3</th>\n",
       "      <td>시완</td>\n",
       "      <td>71</td>\n",
       "      <td>C</td>\n",
       "    </tr>\n",
       "    <tr>\n",
       "      <th>4</th>\n",
       "      <td>미경</td>\n",
       "      <td>65</td>\n",
       "      <td>D</td>\n",
       "    </tr>\n",
       "    <tr>\n",
       "      <th>5</th>\n",
       "      <td>영환</td>\n",
       "      <td>81</td>\n",
       "      <td>B</td>\n",
       "    </tr>\n",
       "    <tr>\n",
       "      <th>6</th>\n",
       "      <td>숙경</td>\n",
       "      <td>66</td>\n",
       "      <td>D</td>\n",
       "    </tr>\n",
       "    <tr>\n",
       "      <th>7</th>\n",
       "      <td>부영</td>\n",
       "      <td>77</td>\n",
       "      <td>C</td>\n",
       "    </tr>\n",
       "    <tr>\n",
       "      <th>8</th>\n",
       "      <td>민섭</td>\n",
       "      <td>73</td>\n",
       "      <td>C</td>\n",
       "    </tr>\n",
       "    <tr>\n",
       "      <th>9</th>\n",
       "      <td>보연</td>\n",
       "      <td>74</td>\n",
       "      <td>C</td>\n",
       "    </tr>\n",
       "  </tbody>\n",
       "</table>\n",
       "</div>"
      ],
      "text/plain": [
       "   이름  수학점수 등급\n",
       "0  철수    52  F\n",
       "1  영희    92  A\n",
       "2  미영    84  B\n",
       "3  시완    71  C\n",
       "4  미경    65  D\n",
       "5  영환    81  B\n",
       "6  숙경    66  D\n",
       "7  부영    77  C\n",
       "8  민섭    73  C\n",
       "9  보연    74  C"
      ]
     },
     "execution_count": 48,
     "metadata": {},
     "output_type": "execute_result"
    }
   ],
   "source": [
    "df['등급'] = 0  # 등급 컬럼 생성, 0으로 초기화\n",
    "\n",
    "df.loc[(df['수학점수']<60), '등급'] = 'F'\n",
    "df.loc[(df['수학점수']>=60) & (df['수학점수']<70), '등급'] = 'D'\n",
    "df.loc[(df['수학점수']>=70) & (df['수학점수']<80), '등급'] = 'C'\n",
    "df.loc[(df['수학점수']>=80) & (df['수학점수']<90), '등급'] = 'B'\n",
    "df.loc[(df['수학점수']>=90) & (df['수학점수']<100), '등급'] = 'A'\n",
    "df"
   ]
  },
  {
   "cell_type": "markdown",
   "id": "a128c35f",
   "metadata": {},
   "source": [
    "**2. cut() 함수 사용**<br>\n",
    "pd.cut(x=데이터, bins=경계값 리스트, labels=bin이름, include_lowest=True)\n",
    "- x : 구간을 나눌 데이터 컬럼 지정\n",
    "- bins : 경계값 리스트 지정\n",
    "- labels : 각 구간의 이름을 지정\n",
    "- include_lowest = True : 각 구간의 낮은 경계값 포함 (왼쪽 경계 포함)"
   ]
  },
  {
   "cell_type": "code",
   "execution_count": 52,
   "id": "ae3acc4f",
   "metadata": {
    "collapsed": true
   },
   "outputs": [
    {
     "data": {
      "text/html": [
       "<div>\n",
       "<style scoped>\n",
       "    .dataframe tbody tr th:only-of-type {\n",
       "        vertical-align: middle;\n",
       "    }\n",
       "\n",
       "    .dataframe tbody tr th {\n",
       "        vertical-align: top;\n",
       "    }\n",
       "\n",
       "    .dataframe thead th {\n",
       "        text-align: right;\n",
       "    }\n",
       "</style>\n",
       "<table border=\"1\" class=\"dataframe\">\n",
       "  <thead>\n",
       "    <tr style=\"text-align: right;\">\n",
       "      <th></th>\n",
       "      <th>이름</th>\n",
       "      <th>수학점수</th>\n",
       "      <th>등급</th>\n",
       "    </tr>\n",
       "  </thead>\n",
       "  <tbody>\n",
       "    <tr>\n",
       "      <th>0</th>\n",
       "      <td>철수</td>\n",
       "      <td>52</td>\n",
       "      <td>F</td>\n",
       "    </tr>\n",
       "    <tr>\n",
       "      <th>1</th>\n",
       "      <td>영희</td>\n",
       "      <td>92</td>\n",
       "      <td>A</td>\n",
       "    </tr>\n",
       "    <tr>\n",
       "      <th>2</th>\n",
       "      <td>미영</td>\n",
       "      <td>84</td>\n",
       "      <td>B</td>\n",
       "    </tr>\n",
       "    <tr>\n",
       "      <th>3</th>\n",
       "      <td>시완</td>\n",
       "      <td>71</td>\n",
       "      <td>C</td>\n",
       "    </tr>\n",
       "    <tr>\n",
       "      <th>4</th>\n",
       "      <td>미경</td>\n",
       "      <td>65</td>\n",
       "      <td>D</td>\n",
       "    </tr>\n",
       "    <tr>\n",
       "      <th>5</th>\n",
       "      <td>영환</td>\n",
       "      <td>81</td>\n",
       "      <td>B</td>\n",
       "    </tr>\n",
       "    <tr>\n",
       "      <th>6</th>\n",
       "      <td>숙경</td>\n",
       "      <td>66</td>\n",
       "      <td>D</td>\n",
       "    </tr>\n",
       "    <tr>\n",
       "      <th>7</th>\n",
       "      <td>부영</td>\n",
       "      <td>77</td>\n",
       "      <td>C</td>\n",
       "    </tr>\n",
       "    <tr>\n",
       "      <th>8</th>\n",
       "      <td>민섭</td>\n",
       "      <td>73</td>\n",
       "      <td>C</td>\n",
       "    </tr>\n",
       "    <tr>\n",
       "      <th>9</th>\n",
       "      <td>보연</td>\n",
       "      <td>74</td>\n",
       "      <td>C</td>\n",
       "    </tr>\n",
       "  </tbody>\n",
       "</table>\n",
       "</div>"
      ],
      "text/plain": [
       "   이름  수학점수 등급\n",
       "0  철수    52  F\n",
       "1  영희    92  A\n",
       "2  미영    84  B\n",
       "3  시완    71  C\n",
       "4  미경    65  D\n",
       "5  영환    81  B\n",
       "6  숙경    66  D\n",
       "7  부영    77  C\n",
       "8  민섭    73  C\n",
       "9  보연    74  C"
      ]
     },
     "execution_count": 52,
     "metadata": {},
     "output_type": "execute_result"
    }
   ],
   "source": [
    "df['등급'] = pd.cut(x=df['수학점수'],\n",
    "                  bins=[0, 60, 70, 80, 90, 100],\n",
    "                  labels=['F', 'D', 'C', 'B', 'A'],\n",
    "                  include_lowest = True)\n",
    "df"
   ]
  },
  {
   "cell_type": "markdown",
   "id": "52c9e6fc",
   "metadata": {},
   "source": [
    "**3. qcut() 함수 사용** <br>\n",
    "- 나누고자 하는 범주 개수를 지정하면 알아서 범주를 나눔\n",
    "- 동일한 '개수'로 나누고자 할 때 이용"
   ]
  },
  {
   "cell_type": "code",
   "execution_count": 53,
   "id": "d8497585",
   "metadata": {
    "collapsed": true
   },
   "outputs": [
    {
     "data": {
      "text/html": [
       "<div>\n",
       "<style scoped>\n",
       "    .dataframe tbody tr th:only-of-type {\n",
       "        vertical-align: middle;\n",
       "    }\n",
       "\n",
       "    .dataframe tbody tr th {\n",
       "        vertical-align: top;\n",
       "    }\n",
       "\n",
       "    .dataframe thead th {\n",
       "        text-align: right;\n",
       "    }\n",
       "</style>\n",
       "<table border=\"1\" class=\"dataframe\">\n",
       "  <thead>\n",
       "    <tr style=\"text-align: right;\">\n",
       "      <th></th>\n",
       "      <th>이름</th>\n",
       "      <th>수학점수</th>\n",
       "      <th>등급</th>\n",
       "    </tr>\n",
       "  </thead>\n",
       "  <tbody>\n",
       "    <tr>\n",
       "      <th>0</th>\n",
       "      <td>철수</td>\n",
       "      <td>52</td>\n",
       "      <td>F</td>\n",
       "    </tr>\n",
       "    <tr>\n",
       "      <th>1</th>\n",
       "      <td>영희</td>\n",
       "      <td>92</td>\n",
       "      <td>A</td>\n",
       "    </tr>\n",
       "    <tr>\n",
       "      <th>2</th>\n",
       "      <td>미영</td>\n",
       "      <td>84</td>\n",
       "      <td>A</td>\n",
       "    </tr>\n",
       "    <tr>\n",
       "      <th>3</th>\n",
       "      <td>시완</td>\n",
       "      <td>71</td>\n",
       "      <td>D</td>\n",
       "    </tr>\n",
       "    <tr>\n",
       "      <th>4</th>\n",
       "      <td>미경</td>\n",
       "      <td>65</td>\n",
       "      <td>F</td>\n",
       "    </tr>\n",
       "    <tr>\n",
       "      <th>5</th>\n",
       "      <td>영환</td>\n",
       "      <td>81</td>\n",
       "      <td>B</td>\n",
       "    </tr>\n",
       "    <tr>\n",
       "      <th>6</th>\n",
       "      <td>숙경</td>\n",
       "      <td>66</td>\n",
       "      <td>D</td>\n",
       "    </tr>\n",
       "    <tr>\n",
       "      <th>7</th>\n",
       "      <td>부영</td>\n",
       "      <td>77</td>\n",
       "      <td>B</td>\n",
       "    </tr>\n",
       "    <tr>\n",
       "      <th>8</th>\n",
       "      <td>민섭</td>\n",
       "      <td>73</td>\n",
       "      <td>C</td>\n",
       "    </tr>\n",
       "    <tr>\n",
       "      <th>9</th>\n",
       "      <td>보연</td>\n",
       "      <td>74</td>\n",
       "      <td>C</td>\n",
       "    </tr>\n",
       "  </tbody>\n",
       "</table>\n",
       "</div>"
      ],
      "text/plain": [
       "   이름  수학점수 등급\n",
       "0  철수    52  F\n",
       "1  영희    92  A\n",
       "2  미영    84  A\n",
       "3  시완    71  D\n",
       "4  미경    65  F\n",
       "5  영환    81  B\n",
       "6  숙경    66  D\n",
       "7  부영    77  B\n",
       "8  민섭    73  C\n",
       "9  보연    74  C"
      ]
     },
     "execution_count": 53,
     "metadata": {},
     "output_type": "execute_result"
    }
   ],
   "source": [
    "df['등급'] = pd.qcut(x=df['수학점수'],\n",
    "                  q=5,\n",
    "                  labels=['F', 'D', 'C', 'B', 'A'])\n",
    "df"
   ]
  },
  {
   "cell_type": "code",
   "execution_count": null,
   "id": "e149ec24",
   "metadata": {},
   "outputs": [],
   "source": []
  },
  {
   "cell_type": "code",
   "execution_count": null,
   "id": "fa009feb",
   "metadata": {},
   "outputs": [],
   "source": []
  },
  {
   "cell_type": "markdown",
   "id": "0b4d824e",
   "metadata": {},
   "source": [
    "## 5. 데이터 축소\n",
    "- PCA : 기존 데이터의 특징을 대표하는 새로운 값 추출\n",
    "- 서로 상관성이 높은 여러 변수들의 선형 조합으로 만든 새로운 변수들로 요약, 축소하는 기법"
   ]
  },
  {
   "cell_type": "code",
   "execution_count": 54,
   "id": "b91af163",
   "metadata": {},
   "outputs": [],
   "source": [
    "# 데이터 준비\n",
    "import numpy as np\n",
    "import pandas as pd\n",
    "import matplotlib.pyplot as plt\n",
    "\n",
    "iris = pd.read_csv(\"https://raw.githubusercontent.com/mwaskom/seaborn-data/master/iris.csv\")"
   ]
  },
  {
   "cell_type": "markdown",
   "id": "7b5570d2",
   "metadata": {},
   "source": [
    "**연속형 변수, 범주형 변수 분리**"
   ]
  },
  {
   "cell_type": "code",
   "execution_count": 56,
   "id": "1a5415d2",
   "metadata": {},
   "outputs": [
    {
     "data": {
      "text/html": [
       "<div>\n",
       "<style scoped>\n",
       "    .dataframe tbody tr th:only-of-type {\n",
       "        vertical-align: middle;\n",
       "    }\n",
       "\n",
       "    .dataframe tbody tr th {\n",
       "        vertical-align: top;\n",
       "    }\n",
       "\n",
       "    .dataframe thead th {\n",
       "        text-align: right;\n",
       "    }\n",
       "</style>\n",
       "<table border=\"1\" class=\"dataframe\">\n",
       "  <thead>\n",
       "    <tr style=\"text-align: right;\">\n",
       "      <th></th>\n",
       "      <th>sepal_length</th>\n",
       "      <th>sepal_width</th>\n",
       "      <th>petal_length</th>\n",
       "      <th>petal_width</th>\n",
       "    </tr>\n",
       "  </thead>\n",
       "  <tbody>\n",
       "    <tr>\n",
       "      <th>0</th>\n",
       "      <td>5.1</td>\n",
       "      <td>3.5</td>\n",
       "      <td>1.4</td>\n",
       "      <td>0.2</td>\n",
       "    </tr>\n",
       "    <tr>\n",
       "      <th>1</th>\n",
       "      <td>4.9</td>\n",
       "      <td>3.0</td>\n",
       "      <td>1.4</td>\n",
       "      <td>0.2</td>\n",
       "    </tr>\n",
       "    <tr>\n",
       "      <th>2</th>\n",
       "      <td>4.7</td>\n",
       "      <td>3.2</td>\n",
       "      <td>1.3</td>\n",
       "      <td>0.2</td>\n",
       "    </tr>\n",
       "    <tr>\n",
       "      <th>3</th>\n",
       "      <td>4.6</td>\n",
       "      <td>3.1</td>\n",
       "      <td>1.5</td>\n",
       "      <td>0.2</td>\n",
       "    </tr>\n",
       "    <tr>\n",
       "      <th>4</th>\n",
       "      <td>5.0</td>\n",
       "      <td>3.6</td>\n",
       "      <td>1.4</td>\n",
       "      <td>0.2</td>\n",
       "    </tr>\n",
       "  </tbody>\n",
       "</table>\n",
       "</div>"
      ],
      "text/plain": [
       "   sepal_length  sepal_width  petal_length  petal_width\n",
       "0           5.1          3.5           1.4          0.2\n",
       "1           4.9          3.0           1.4          0.2\n",
       "2           4.7          3.2           1.3          0.2\n",
       "3           4.6          3.1           1.5          0.2\n",
       "4           5.0          3.6           1.4          0.2"
      ]
     },
     "execution_count": 56,
     "metadata": {},
     "output_type": "execute_result"
    }
   ],
   "source": [
    "df = iris.drop(['species'], axis=1)\n",
    "df_species = iris['species']\n",
    "\n",
    "df.head()"
   ]
  },
  {
   "cell_type": "markdown",
   "id": "dc3857f2",
   "metadata": {},
   "source": [
    "**PCA 분석 수행**<br>\n",
    "변수 간의 스케일 차이가 나면 스케일이 큰 변수가 주성분에 영향을 많이 주므로 표준화나 정규화 필요"
   ]
  },
  {
   "cell_type": "code",
   "execution_count": 59,
   "id": "93fe607f",
   "metadata": {},
   "outputs": [
    {
     "name": "stdout",
     "output_type": "stream",
     "text": [
      "(150, 4)\n",
      "[0.72962445 0.22850762 0.03668922 0.00517871]\n"
     ]
    }
   ],
   "source": [
    "from sklearn.preprocessing import StandardScaler\n",
    "\n",
    "# 정규화\n",
    "scaler = StandardScaler()\n",
    "df['sepal_length'] = scaler.fit_transform(df[['sepal_length']])\n",
    "df['sepal_width'] = scaler.fit_transform(df[['sepal_width']])\n",
    "df['petal_length'] = scaler.fit_transform(df[['petal_length']])\n",
    "df['petal_width'] = scaler.fit_transform(df[['petal_width']])\n",
    "\n",
    "# PCA 수행\n",
    "from sklearn.decomposition import PCA\n",
    "pca = PCA(n_components=4)  # n_components : 변환할 차원의 수\n",
    "p_score = pca.fit_transform(df)\n",
    "\n",
    "print(p_score.shape)\n",
    "print(pca.explained_variance_ratio_)  # 설명변수 비율\n",
    "\n",
    "# pca 결과, 첫 번째 요소가 전체 변동성의 73%를 설명함.\n",
    "# 두 개 요소로만 변환해도 원본 데이터의 변동성을 95.8% 설명 가능하므로, 변수를 원래 4개에서 2개로 줄일 수 있음"
   ]
  },
  {
   "cell_type": "code",
   "execution_count": null,
   "id": "0584272d",
   "metadata": {},
   "outputs": [],
   "source": []
  },
  {
   "cell_type": "code",
   "execution_count": null,
   "id": "6c683b44",
   "metadata": {},
   "outputs": [],
   "source": []
  },
  {
   "cell_type": "markdown",
   "id": "9afe133c",
   "metadata": {},
   "source": [
    "## 6. 평활화(Smoothing)\n",
    "- 데이터의 분포를 매끄럽게 함으로써 데이터에서 중요하지 않은 것을 제거하고 그 패턴을 알아내는 방법\n",
    "- 목적 : 값의 변화를 매끄럽게 해 **데이터의 추세(경향)**을 알아내는 것\n",
    "- 필터링을 사용해 수행\n",
    "> **이동평균**<br>\n",
    "> - 이전 n개 데이터의 비가중/가중 평균<br>\n",
    "> - 전체 데이터 집합의 여러 하위 집합에 대한 일련의 평균을 만들어 데이터 요소 분석<br>\n",
    "> - 단순이동평균, 누적이동평균, 가중이동평균"
   ]
  },
  {
   "cell_type": "code",
   "execution_count": 87,
   "id": "4e3d757e",
   "metadata": {},
   "outputs": [
    {
     "name": "stdout",
     "output_type": "stream",
     "text": [
      "   rownames  time  value\n",
      "0         1  1821    269\n",
      "1         2  1822    321\n",
      "2         3  1823    585\n",
      "3         4  1824    871\n",
      "4         5  1825   1475\n",
      "          count         mean          std     min      25%     50%      75%  \\\n",
      "rownames  114.0    57.500000    33.052988     1.0    29.25    57.5    85.75   \n",
      "time      114.0  1877.500000    33.052988  1821.0  1849.25  1877.5  1905.75   \n",
      "value     114.0  1538.017544  1585.843914    39.0   348.25   771.0  2566.75   \n",
      "\n",
      "             max  \n",
      "rownames   114.0  \n",
      "time      1934.0  \n",
      "value     6991.0  \n"
     ]
    }
   ],
   "source": [
    "# 데이터 import\n",
    "df = pd.read_csv(\"https://raw.githubusercontent.com/vincentarelbundock/Rdatasets/master/csv/datasets/lynx.csv\")\n",
    "\n",
    "print(df.head())\n",
    "print(df.describe().T)"
   ]
  },
  {
   "cell_type": "markdown",
   "id": "b35afeb0",
   "metadata": {},
   "source": [
    "**1. 단순이동평균(Simple Moving Average) : rolling(n).mean(), n=데이터 개수**"
   ]
  },
  {
   "cell_type": "code",
   "execution_count": 89,
   "id": "d8ab1da7",
   "metadata": {
    "collapsed": true
   },
   "outputs": [
    {
     "data": {
      "image/png": "[encoded data removed]",
      "text/plain": [
       "<Figure size 640x480 with 1 Axes>"
      ]
     },
     "metadata": {},
     "output_type": "display_data"
    }
   ],
   "source": [
    "# 10년 단순이동평균\n",
    "df['sma'] = df['value'].rolling(10).mean()\n",
    "\n",
    "plt.plot(df['value'])\n",
    "plt.plot(df['sma'])\n",
    "plt.show()"
   ]
  },
  {
   "cell_type": "markdown",
   "id": "c67dc333",
   "metadata": {},
   "source": [
    "**2. 지수가중이동평균(Exponetially-weighted Moving Average) : ewm(n).mean(), n=데이터개수**\n",
    "<br>최근 데이터에 가중치 부여하여 이동평균 구함, 가중치는 지수함수형태로 사용"
   ]
  },
  {
   "cell_type": "code",
   "execution_count": 90,
   "id": "43a21d82",
   "metadata": {},
   "outputs": [
    {
     "data": {
      "image/png": "[encoded data removed]",
      "text/plain": [
       "<Figure size 640x480 with 1 Axes>"
      ]
     },
     "metadata": {},
     "output_type": "display_data"
    }
   ],
   "source": [
    "# 10년 지수가중이동평균\n",
    "df['ewm'] = df['value'].ewm(10).mean()\n",
    "\n",
    "plt.plot(df['value'])\n",
    "plt.plot(df['ewm'])\n",
    "plt.show()"
   ]
  },
  {
   "cell_type": "code",
   "execution_count": null,
   "id": "47e5b2c7",
   "metadata": {},
   "outputs": [],
   "source": []
  }
 ],
 "metadata": {
  "kernelspec": {
   "display_name": "Python 3 (ipykernel)",
   "language": "python",
   "name": "python3"
  },
  "language_info": {
   "codemirror_mode": {
    "name": "ipython",
    "version": 3
   },
   "file_extension": ".py",
   "mimetype": "text/x-python",
   "name": "python",
   "nbconvert_exporter": "python",
   "pygments_lexer": "ipython3",
   "version": "3.10.11"
  }
 },
 "nbformat": 4,
 "nbformat_minor": 5
}
