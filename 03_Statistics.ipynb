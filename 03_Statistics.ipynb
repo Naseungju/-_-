{
 "cells": [
  {
   "cell_type": "markdown",
   "id": "e9107178",
   "metadata": {},
   "source": [
    "## 1. 표본의 평균 검정\n",
    "- **단측검정**\n",
    "    - 좌측검정 : 모평균이 표본평균보다 작다 <br>(귀무가설 기각 영역: 검정통계량 < -임계값)\n",
    "    - 우측검정 : 모평균이 표본평균보다 크다 <br>(귀무가설 기각 영역: 검정통계량 > 임계값) <br><br> \n",
    "- **양측검정** <br>\n",
    "    귀무가설 기각 영역: |검정통계량| > 임계값\n",
    "<br><br>\n",
    "- **기각역** : 영가설을 기각하게 하는 검정통계량의 영역\n",
    "- **임계값** : 가설 검정에서 기각역과 채택역의 경계가 되는 값, 기각역의 경계값"
   ]
  },
  {
   "cell_type": "markdown",
   "id": "7207f4e0",
   "metadata": {},
   "source": [
    "- pdf(x) : probability density function 확률 밀도 함수\n",
    "- cdf : cumulative distribution function - 누적 분포 함수\n",
    "<br>cdf(n) : n 이하의 확률 값 구할 수 있음 (1-cdf(n) : n 이상의 확률 값)\n",
    "- ppf : cdf 역함수 개념<br>"
   ]
  },
  {
   "cell_type": "markdown",
   "id": "44dde829",
   "metadata": {},
   "source": [
    "### 검정 통계량\n",
    "- 귀무가설이 참인 경우 해당 자료가 얼마나 멀리 벗어나 있는지 측정\n",
    "- 통계량이 클수록 영가설과 일치하지 않는다는 것을 의미\n",
    "- **p값** : 귀무가설이 맞다고 가정할 때 얻은 결과보다 극단적인 결과과 실제로 관측될 확률 (유의수준보다 작을 경우 귀무가설 기각)"
   ]
  },
  {
   "cell_type": "markdown",
   "id": "02feadd8",
   "metadata": {},
   "source": [
    "1. 모표준편차를 알고 있을 때\n",
    "![1](pictures/1.png)\n",
    "\n",
    "2. 모표준편차를 모르고 있을 때\n",
    "![2](pictures/2.png)\n",
    "\n",
    "3. 한 개의 모분산에 대한 검정통계량\n",
    "![3](pictures/3.png)\n",
    "\n",
    "4. 두 개의 분산비에 관한 검정통계량\n",
    "![4](pictures/4.png)"
   ]
  },
  {
   "cell_type": "code",
   "execution_count": 19,
   "id": "82fe9b22",
   "metadata": {},
   "outputs": [],
   "source": [
    "import numpy as np\n",
    "from scipy.stats import norm\n",
    "\n",
    "# 예제 데이터 생성\n",
    "data = np.array([23, 25, 28, 30, 26, 27, 29, 32, 31, 28])"
   ]
  },
  {
   "cell_type": "code",
   "execution_count": 20,
   "id": "27ea5ba6",
   "metadata": {},
   "outputs": [],
   "source": [
    "# 모집단의 평균과 분산 (표준편차)\n",
    "population_mean = 28      # 모집단의 평균\n",
    "population_variance = 4   # 모집단의 분산 (표준편차의 제곱)\n",
    "\n",
    "# 유의수준 설정\n",
    "alpha = 0.05\n",
    "\n",
    "# 단측 또는 양측 검정 선택 (예: 양측 검정)\n",
    "## 영가설 : 모평균과 표본 평균은 같다. <=> 대립가설 : 모평균과 표본 평균은 같지 않다.\n",
    "alternative = \"two.sided\"\n",
    "\n",
    "# 표본평균 계산\n",
    "sample_mean = np.mean(data)\n",
    "\n",
    "# 표본 크기\n",
    "n = len(data)"
   ]
  },
  {
   "cell_type": "markdown",
   "id": "542ba75d",
   "metadata": {},
   "source": [
    "### 1. Z score 검정"
   ]
  },
  {
   "cell_type": "code",
   "execution_count": 29,
   "id": "ad26e707",
   "metadata": {},
   "outputs": [
    {
     "name": "stdout",
     "output_type": "stream",
     "text": [
      "표본평균: 27.9\n",
      "검정통계량: -0.15811388300842122\n",
      "임계값: 1.959963984540054\n",
      "p-값: 0.87436706116289\n",
      ">> 귀무가설 채택\n"
     ]
    }
   ],
   "source": [
    "# 검정통계량 계산 (Z-검정)\n",
    "## (표본 평균 - 모평균)/(모표준편차/표본의 제곱근)\n",
    "test_statistic = (sample_mean - population_mean) / (np.sqrt(population_variance) / np.sqrt(n))\n",
    "\n",
    "# 임계값 계산 (Z-검정, 양측 검정)\n",
    "## ppf : 누적분포함수의 역함수\n",
    "critical_value = norm.ppf(1 - alpha / 2)\n",
    "\n",
    "# p-값 계산 (양측 검정)\n",
    "## cdf : 누적분포함수\n",
    "p_value = 2 * (1 - norm.cdf(abs(test_statistic)))\n",
    "\n",
    "# 결과 출력\n",
    "print(\"표본평균:\", sample_mean)\n",
    "print(\"검정통계량:\", test_statistic)\n",
    "print(\"임계값:\", critical_value)\n",
    "print(\"p-값:\", p_value)\n",
    "\n",
    "# 결과 해석\n",
    "if abs(test_statistic) > critical_value:\n",
    "    print(\">> 귀무가설 기각\")\n",
    "else:\n",
    "    print(\">> 귀무가설 채택\")"
   ]
  },
  {
   "cell_type": "markdown",
   "id": "b1fb2f47",
   "metadata": {},
   "source": [
    "### 2. T 검정\n",
    "- 두 그룹 간의 차이를 나타내기 위해 표본 데이터를 사용하여 계산된 값\n",
    "- 그룹 간의 차이가 우연히 발생한 것인지, 통계적으로 유의미한지 평가\n",
    "- **t = 두 그룹 간의 표본 평균 차이/표준 오차**\n",
    "<br><br>\n",
    "- t 통계량이 크면 그룹 간 차이가 유의미할 가능성이 높아짐\n",
    "- t-분포를 따르며, 임계값을 사용해 가설검정 수행\n",
    "- 일반적으로 t-통계량이 크면서 p값이 작을수록 귀무가설 기각\n",
    "<br><br>\n",
    "1. **ttest_1samp**\n",
    "- 한 집단의 평균이 특정 값과 같은지를 검정하는 t-검정 수행\n",
    "- 주어진 데이터 집합의 평균이 특정 값과 통계적으로 다르다면 귀무가설을 기각\n",
    "> data: 표본 데이터 <br>\n",
    "> popmean: 귀무가설로 설정된 평균값<br>\n",
    "> alternative: 'two-sided', 'greater', 'less' 중 하나 선택<br><br>\n",
    "> [return]<br>\n",
    "> t_statistic: t-통계량 (검정 통계량)<br>\n",
    "> p_value: 양측 검정의 p-값\n",
    "\n",
    "<br><br>\n",
    "2. **t.interval**\n",
    "-  t-분포를 기반으로 신뢰구간 계산\n",
    "> data: 표본 데이터<br>\n",
    "> alpha: 신뢰수준 (예: 0.95는 95%의 신뢰수준)<br>\n",
    "> df: 자유도 (일반적으로 n-1)<br>\n",
    "> loc: 표본 평균의 위치(평균값) - 계산된 신뢰구간이 표본 평균을 중심으로 형성<br>\n",
    "> scale: 표준편차 또는 표준오차 (표준편차를 사용할 경우, ddof=1로 설정)<br><br>\n",
    "> [return] confidence_interval: 계산된 신뢰구간"
   ]
  },
  {
   "cell_type": "code",
   "execution_count": 30,
   "id": "e537ca5f",
   "metadata": {},
   "outputs": [
    {
     "name": "stdout",
     "output_type": "stream",
     "text": [
      "t-통계량: 31.887160448233363\n",
      "p-값: 1.4410218033665443e-10\n",
      "95% 신뢰구간: (25.92070225277866, 29.879297747221337)\n",
      ">> 귀무가설 기각\n"
     ]
    }
   ],
   "source": [
    "# t-검정 수행\n",
    "t_statistic, p_value = stats.ttest_1samp(data, popmean=0, alternative = alternative)\n",
    "\n",
    "# 95% 신뢰구간 계산\n",
    "## sem : 표본 평균의 표준 오차\n",
    "confidence_interval = stats.t.interval(1-alpha, len(data) - 1, loc=np.mean(data), scale=stats.sem(data))\n",
    "\n",
    "# 결과 출력\n",
    "print(\"t-통계량:\", t_statistic)\n",
    "print(\"p-값:\", p_value)\n",
    "print(\"95% 신뢰구간:\", confidence_interval)\n",
    "\n",
    "# 결과 해석\n",
    "if p_value < alpha:\n",
    "    print(\">> 귀무가설 기각\")\n",
    "else:\n",
    "    print(\">> 귀무가설 기각 X\")"
   ]
  },
  {
   "cell_type": "code",
   "execution_count": 31,
   "id": "e0ee2bb7",
   "metadata": {},
   "outputs": [
    {
     "name": "stdout",
     "output_type": "stream",
     "text": [
      "mpg의 표본평균: 20.0906\n",
      "mpg의 표본분산: 36.3241\n",
      "[단일표본 t-검정 결과]\n",
      "t-통계량: 0.08506003568133688\n",
      "p-값: 0.9327606409093872\n",
      ">> mpg 평균의 95% 신뢰구간: 17.9177 - 22.2636\n"
     ]
    }
   ],
   "source": [
    "# 따라하기\n",
    "import pandas as pd\n",
    "import numpy as np\n",
    "from scipy import stats\n",
    "\n",
    "# 데이터 불러오기\n",
    "mtcars = pd.read_csv('https://raw.githubusercontent.com/YoungjinBD/dataset/main/mtcars.csv')\n",
    "\n",
    "# mpg 열의 표본평균(mean) 계산 및 반올림\n",
    "mpg_mean = round(np.mean(mtcars['mpg']), 4)\n",
    "print(\"mpg의 표본평균:\", mpg_mean)\n",
    "\n",
    "# mpg 열의 표본분산(var) 계산 및 반올림\n",
    "## ddof : 자유도 감소 파라미터 (1-분모에서 자유도를 1만큼 감소)\n",
    "mpg_var = round(np.var(mtcars['mpg'], ddof=1), 4)\n",
    "print(\"mpg의 표본분산:\", mpg_var)\n",
    "\n",
    "# 단일표본 t-검정 수행, mpg 열의 평균이 20인지 검정\n",
    "t_stat, p_value = stats.ttest_1samp(mtcars['mpg'], 20)\n",
    "print(\"[단일표본 t-검정 결과]\")\n",
    "print(\"t-통계량:\", t_stat)\n",
    "print(\"p-값:\", p_value)\n",
    "\n",
    "# mpg 평균의 95% 신뢰구간 계산 및 출력\n",
    "conf_interval = stats.t.interval(0.95, len(mtcars['mpg']) - 1, loc=np.mean(mtcars['mpg']), scale=stats.sem(mtcars['mpg']))\n",
    "print(\">> mpg 평균의 95% 신뢰구간:\", round(conf_interval[0], 4), \"-\", round(conf_interval[1], 4))"
   ]
  },
  {
   "cell_type": "markdown",
   "id": "c909d55a",
   "metadata": {},
   "source": [
    "## 2. 두 독립표본의 평균, 중앙값 차이 검정"
   ]
  },
  {
   "cell_type": "markdown",
   "id": "fd7419c1",
   "metadata": {},
   "source": [
    "### 1. ttest_ind\n",
    "- independent t-test : 분산이 동질한지 검정\n",
    "- 매개변수 : 그룹1, 그룹2, equal_var=True(등분산이라 가정)"
   ]
  },
  {
   "cell_type": "code",
   "execution_count": 1,
   "id": "ae023782",
   "metadata": {},
   "outputs": [
    {
     "name": "stdout",
     "output_type": "stream",
     "text": [
      "t-검정통계량: 1.5778641172210597\n",
      "Sample 1 평균: 27.6\n",
      "Sample 2 평균: 23.8\n",
      "p-값 (two-tailed): 0.15324889402868613\n",
      "두 그룹의 평균은 유의미하게 다르지 않습니다.\n"
     ]
    }
   ],
   "source": [
    "import scipy.stats as stats\n",
    "import numpy as np\n",
    "\n",
    "# 두 독립 표본 데이터\n",
    "sample1 = [23, 25, 28, 30, 32]\n",
    "sample2 = [19, 21, 24, 26, 29]\n",
    "\n",
    "# t-검정 실행\n",
    "t_statistic, p_value = stats.ttest_ind(sample1, sample2)\n",
    "\n",
    "# 각 샘플의 평균\n",
    "mean_sample1 = np.mean(sample1)\n",
    "mean_sample2 = np.mean(sample2)\n",
    "\n",
    "# 결과 출력\n",
    "alpha = 0.05    \n",
    "\n",
    "print(\"t-검정통계량:\", t_statistic)\n",
    "print(\"Sample 1 평균:\", mean_sample1)\n",
    "print(\"Sample 2 평균:\", mean_sample2)\n",
    "print(\"p-값 (two-tailed):\", p_value)\n",
    "\n",
    "if p_value < alpha:\n",
    "    print(\"두 그룹의 평균은 유의미하게 다릅니다.\")\n",
    "else:\n",
    "    print(\"두 그룹의 평균은 유의미하게 다르지 않습니다.\")\n"
   ]
  },
  {
   "cell_type": "markdown",
   "id": "9f8fe976",
   "metadata": {},
   "source": [
    "### 2. 맨-휘트니 U 검정\n",
    "- 자료의 수치가 **순위 척도**거나 **표본 수가 비교적 작아 정규성을 만족하지 못하는 경우**의 집단 차이를 분석하고 싶을 때 사용\n",
    "- ex. 남녀 사이의 등수 차이를 알고 싶을 때 = 등수는 순위 척도이므로 평균이나 분산 등의 통계치 계산 X"
   ]
  },
  {
   "cell_type": "code",
   "execution_count": 2,
   "id": "46f23b0b",
   "metadata": {},
   "outputs": [
    {
     "name": "stdout",
     "output_type": "stream",
     "text": [
      "Mann-Whitney U 통계량: 19.0\n",
      "Sample 1 평균: 27.6\n",
      "Sample 2 평균: 23.8\n",
      "p-값 (two-tailed): 0.2222222222222222\n",
      "두 그룹의 중앙값은 유의미하게 다르지 않습니다.\n"
     ]
    }
   ],
   "source": [
    "import scipy.stats as stats\n",
    "import numpy as np\n",
    "\n",
    "# 두 독립 표본 데이터\n",
    "sample1 = [23, 25, 28, 30, 32]\n",
    "sample2 = [19, 21, 24, 26, 29]\n",
    "\n",
    "# Mann-Whitney U 검정 실행\n",
    "u_statistic, p_value = stats.mannwhitneyu(sample1, sample2)\n",
    "\n",
    "# 각 샘플의 평균\n",
    "mean_sample1 = np.mean(sample1)\n",
    "mean_sample2 = np.mean(sample2)\n",
    "\n",
    "# 결과 출력\n",
    "alpha = 0.05 \n",
    "\n",
    "print(\"Mann-Whitney U 통계량:\", u_statistic)\n",
    "print(\"Sample 1 평균:\", mean_sample1)\n",
    "print(\"Sample 2 평균:\", mean_sample2)\n",
    "print(\"p-값 (two-tailed):\", p_value)\n",
    "\n",
    "if p_value < alpha:\n",
    "    print(\"두 그룹의 중앙값은 유의미하게 다릅니다.\")\n",
    "else:\n",
    "    print(\"두 그룹의 중앙값은 유의미하게 다르지 않습니다.\")"
   ]
  },
  {
   "cell_type": "markdown",
   "id": "804af2e2",
   "metadata": {},
   "source": [
    "### 3. shapiro\n",
    "- 데이터가 정규분포를 가지는지에 대해 검정\n",
    "- 귀무가설 : F(x)는 정규분포이다"
   ]
  },
  {
   "cell_type": "code",
   "execution_count": 4,
   "id": "6db7fd59",
   "metadata": {},
   "outputs": [
    {
     "name": "stdout",
     "output_type": "stream",
     "text": [
      "Shapiro-Wilk 테스트 통계량: 0.9553363919258118\n",
      "p-값: 0.7484778761863708\n",
      "귀무가설 채택, 데이터는 정규분포를 따를 가능성이 높습니다.\n"
     ]
    }
   ],
   "source": [
    "from scipy import stats\n",
    "\n",
    "# 정규성 검정을 위한 샘플 데이터 생성\n",
    "data = [2.4, 2.7, 3.1, 3.2, 3.5, 3.7, 3.9, 4.1, 4.2]\n",
    "\n",
    "# Shapiro-Wilk 테스트 수행\n",
    "statistic, p_value = stats.shapiro(data)\n",
    "\n",
    "# 결과 출력\n",
    "alpha = 0.05   \n",
    "\n",
    "print(\"Shapiro-Wilk 테스트 통계량:\", statistic)\n",
    "print(\"p-값:\", p_value)\n",
    "\n",
    "if p_value > alpha:\n",
    "    print(\"귀무가설 채택, 데이터는 정규분포를 따를 가능성이 높습니다.\")\n",
    "else:\n",
    "    print(\"귀무가설 기각, 데이터는 정규분포를 따르지 않을 가능성이 있습니다.\")"
   ]
  },
  {
   "cell_type": "code",
   "execution_count": 5,
   "id": "b67f0268",
   "metadata": {},
   "outputs": [
    {
     "name": "stdout",
     "output_type": "stream",
     "text": [
      "남자 데이터 평균: 100.0\n",
      "여자 데이터 평균: 108.0\n",
      "\n",
      "[남자 데이터 Shapiro-Wilk 테스트 통계량]: 0.932635486125946\n",
      "남자 데이터 p-값: 0.17352384328842163\n",
      "남자 데이터는 정규분포를 따를 가능성이 높습니다.\n",
      "\n",
      "[여자 데이터 Shapiro-Wilk 테스트 통계량]: 0.9615268111228943\n",
      "여자 데이터 p-값: 0.5747838020324707\n",
      "여자 데이터는 정규분포를 따를 가능성이 높습니다.\n"
     ]
    }
   ],
   "source": [
    "# 따라하기\n",
    "from scipy import stats\n",
    "\n",
    "# 데이터 샘플\n",
    "dat_M = [117, 108, 105, 89, 101, 93, 96, 108, 108, 94, 93, 112, 92, 91, 100, 96, 120, 86, 96, 95]\n",
    "dat_F = [121, 101, 102, 114, 103, 105, 101, 131, 96, 109, 109, 113, 115, 94, 108, 96, 110, 112, 120, 100]\n",
    "\n",
    "# 평균 계산\n",
    "mean_M = sum(dat_M) / len(dat_M)\n",
    "mean_F = sum(dat_F) / len(dat_F)\n",
    "print(\"남자 데이터 평균:\", mean_M)\n",
    "print(\"여자 데이터 평균:\", mean_F)\n",
    "\n",
    "# 샤피로-윌크 정규성 테스트 수행\n",
    "statistic_M, p_value_M = stats.shapiro(dat_M)\n",
    "statistic_F, p_value_F = stats.shapiro(dat_F)\n",
    "\n",
    "print(\"\\n[남자 데이터 Shapiro-Wilk 테스트 통계량]:\", statistic_M)\n",
    "print(\"남자 데이터 p-값:\", p_value_M)\n",
    "if p_value_M > 0.05:\n",
    "    print(\"남자 데이터는 정규분포를 따를 가능성이 높습니다.\")\n",
    "else:\n",
    "    print(\"남자 데이터는 정규분포를 따르지 않을 가능성이 있습니다.\")\n",
    "\n",
    "print(\"\\n[여자 데이터 Shapiro-Wilk 테스트 통계량]:\", statistic_F)\n",
    "print(\"여자 데이터 p-값:\", p_value_F)\n",
    "if p_value_F > 0.05:\n",
    "    print(\"여자 데이터는 정규분포를 따를 가능성이 높습니다.\")\n",
    "else:\n",
    "    print(\"여자 데이터는 정규분포를 따르지 않을 가능성이 있습니다.\")\n"
   ]
  },
  {
   "cell_type": "code",
   "execution_count": 6,
   "id": "8f0ff8b8",
   "metadata": {},
   "outputs": [
    {
     "name": "stdout",
     "output_type": "stream",
     "text": [
      "t-검정통계량: -2.670573872669349\n",
      "p-값: 0.011082895240510137\n",
      "두 표본 간에는 유의한 평균 차이가 있습니다. (귀무가설 기각)\n"
     ]
    }
   ],
   "source": [
    "from scipy import stats\n",
    "\n",
    "# 독립표본 t-검정 수행\n",
    "t_statistic, p_value = stats.ttest_ind(dat_M, dat_F)\n",
    "\n",
    "print(\"t-검정통계량:\", t_statistic)\n",
    "print(\"p-값:\", p_value)\n",
    "\n",
    "alpha = 0.05    \n",
    "\n",
    "if p_value < alpha:\n",
    "    print(\"두 표본 간에는 유의한 평균 차이가 있습니다. (귀무가설 기각)\")\n",
    "else:\n",
    "    print(\"두 표본 간에는 유의한 평균 차이가 없습니다. (귀무가설 채택)\")\n"
   ]
  },
  {
   "cell_type": "markdown",
   "id": "f899b48a",
   "metadata": {},
   "source": [
    "## 3. 대응표본의 평균 차이 검정 (t-test)"
   ]
  },
  {
   "cell_type": "markdown",
   "id": "bfd487ce",
   "metadata": {},
   "source": [
    "### 1. ttest_rel\n",
    "- 짝을 이룬 표본의 평균 차이를 검정하는 paired t-test\n",
    "- **동일한 객체에 대해서 전과 후로 나누어 반복 측정한 두 결과**\n",
    "- ex) 같은 그룹에 대해 신약 투약 전과 후의 평균 차이\n",
    "- 종속 표본 t-test, 매칭된 짝 t-test, 반복측정 표본 t-test 라고도 함\n",
    "> **가정사항 (Assumptions)**<br>\n",
    "> 1. **측정 대상은 독립적**이어야 함 : 하나의 객체에 대한 측정은 어떤 다른 객체의 측정에 영향을 끼치지 않음<br>\n",
    "> 2. 각 짝을 이룬 측정치는 **동일한 객체**로부터 얻어야 함 <br>\n",
    "> 3. 짝을 이뤄 측정된 전-후 차이 값은 **정규분포를 따라야 함**"
   ]
  },
  {
   "cell_type": "code",
   "execution_count": 7,
   "id": "040c4447",
   "metadata": {},
   "outputs": [
    {
     "name": "stdout",
     "output_type": "stream",
     "text": [
      "대응표본 t-검정 결과:\n",
      "t-통계량 : -8.25674954467424\n",
      "p-값 : 0.0011738040715128372\n"
     ]
    }
   ],
   "source": [
    "from scipy import stats\n",
    "\n",
    "data_before = [72, 75, 68, 71, 73]\n",
    "data_after = [76, 79, 74, 78, 80]\n",
    "\n",
    "t_statistic, p_value = stats.ttest_rel(data_before, data_after)\n",
    "\n",
    "print(\"대응표본 t-검정 결과:\")\n",
    "print(f\"t-통계량 : {t_statistic}\")\n",
    "print(f\"p-값 : {p_value}\")"
   ]
  },
  {
   "cell_type": "code",
   "execution_count": 8,
   "id": "c9135ae4",
   "metadata": {},
   "outputs": [
    {
     "name": "stdout",
     "output_type": "stream",
     "text": [
      "[before 데이터의 정규성 검정]:\n",
      "p-값: 0.835266649723053\n",
      "before 데이터는 정규분포를 따릅니다.\n",
      "\n",
      "[after 데이터의 정규성 검정]:\n",
      "p-값: 0.6177965998649597\n",
      "after 데이터는 정규분포를 따릅니다.\n"
     ]
    }
   ],
   "source": [
    "# 따라하기\n",
    "from scipy import stats\n",
    "\n",
    "before = [7, 3, 4, 5, 2, 1, 6, 6, 5, 4]\n",
    "after = [8, 4, 5, 6, 2, 3, 6, 8, 6, 5]\n",
    "\n",
    "# 샤피로-윌크 검정 수행\n",
    "_, p_value_before = stats.shapiro(before)\n",
    "_, p_value_after = stats.shapiro(after)\n",
    "\n",
    "# 결과 출력\n",
    "print(\"[before 데이터의 정규성 검정]:\")\n",
    "if p_value_before > 0.05:\n",
    "    print(\"p-값:\", p_value_before)\n",
    "    print(\"before 데이터는 정규분포를 따릅니다.\")\n",
    "else:\n",
    "    print(\"p-값:\", p_value_before)\n",
    "    print(\"before 데이터는 정규분포를 따르지 않습니다.\")\n",
    "    \n",
    "print(\"\\n[after 데이터의 정규성 검정]:\")\n",
    "if p_value_after > 0.05:\n",
    "    print(\"p-값:\", p_value_after)\n",
    "    print(\"after 데이터는 정규분포를 따릅니다.\")\n",
    "else:\n",
    "    print(\"p-값:\", p_value_after)\n",
    "    print(\"after 데이터는 정규분포를 따르지 않습니다.\")"
   ]
  },
  {
   "cell_type": "code",
   "execution_count": 9,
   "id": "68159767",
   "metadata": {},
   "outputs": [
    {
     "name": "stdout",
     "output_type": "stream",
     "text": [
      "대응 표본 t-검정 결과:\n",
      "t-통계량(t-statistic): -4.743416490252569\n",
      "p-값(p-value): 0.001053871257016553\n",
      "p-값이 유의수준보다 작으므로 귀무가설을 기각\n",
      "수면유도제를 복용하기 전과 후의 평균 수면시간 차이는 0보다 작습니다.\n"
     ]
    }
   ],
   "source": [
    "import numpy as np\n",
    "from scipy import stats\n",
    "\n",
    "# 데이터\n",
    "before = np.array([7, 3, 4, 5, 2, 1, 6, 6, 5, 4])\n",
    "after = np.array([8, 4, 5, 6, 2, 3, 6, 8, 6, 5])\n",
    "\n",
    "# 차이 값 계산\n",
    "D = before - after\n",
    "\n",
    "# 대응표본 t-검정 수행\n",
    "t_statistic, p_value = stats.ttest_rel(before, after)\n",
    "\n",
    "# 결과 출력\n",
    "print(\"대응 표본 t-검정 결과:\")\n",
    "print(f\"t-통계량(t-statistic): {t_statistic}\")\n",
    "print(f\"p-값(p-value): {p_value}\")\n",
    "\n",
    "# 가설 검정\n",
    "alpha = 0.05   \n",
    "\n",
    "if p_value < alpha:\n",
    "    print(\"p-값이 유의수준보다 작으므로 귀무가설을 기각\")\n",
    "    print(\"수면유도제를 복용하기 전과 후의 평균 수면시간 차이는 0보다 작습니다.\")\n",
    "else:\n",
    "    print(\"p-값이 유의수준보다 크므로 귀무가설을 채택\")\n",
    "    print(\"수면유도제를 복용하기 전과 후의 평균 수면시간에는 차이가 없습니다.\")"
   ]
  },
  {
   "cell_type": "markdown",
   "id": "4bd31fb0",
   "metadata": {},
   "source": [
    "## 4. 단일표본 모분산 검정 (카이제곱 검정)"
   ]
  },
  {
   "cell_type": "markdown",
   "id": "ab4c5c30",
   "metadata": {},
   "source": [
    "- 카이제곱 검정 : 주어진 데이터가 **특정 분산값**이라고 볼 수 있는지에 대한 검정\n",
    "![5](pictures/5.png)"
   ]
  },
  {
   "cell_type": "code",
   "execution_count": 10,
   "id": "41ed2a4e",
   "metadata": {},
   "outputs": [],
   "source": [
    "import numpy as np\n",
    "from scipy.stats import chi2\n",
    "\n",
    "# 샘플 데이터 생성\n",
    "data = np.array([14.2, 15.1, 14.8, 15.4, 14.9, 15.2, 14.6, 15.0])\n",
    "\n",
    "# 가설 설정\n",
    "# H0: 모분산은 1.0과 같다.\n",
    "# H1: 모분산은 1.0과 다르다.\n",
    "\n",
    "population_variance = 1.0   # 모분산\n",
    "\n",
    "## 검정통계량 = (n-1) * 표본분산 / 모분산\n",
    "sample_variance = np.var(data)  # 표본분산\n",
    "n = len(data)                   # 집단 크기\n",
    "chi2_stat = (n-1) * sample_variance / population_variance  # 검정 통계량\n",
    "\n",
    "# 카이제곱 분포의 자유도\n",
    "degrees_of_freedom = n-1"
   ]
  },
  {
   "cell_type": "code",
   "execution_count": 12,
   "id": "4c6d9528",
   "metadata": {},
   "outputs": [
    {
     "name": "stdout",
     "output_type": "stream",
     "text": [
      "Chi-Square Statistic: 0.8575000000000008\n",
      "p-value: 0.9968119115718612\n",
      "귀무가설 채택. 모분산은 1.0과 같을 가능성이 있습니다.\n"
     ]
    }
   ],
   "source": [
    "# p-값 계산\n",
    "## cdf : cumulative distribution function - 누적 분포 함수\n",
    "##       cdf(n) : n 이하의 확률 값 구할 수 있음 (1-cdf(n) : n 이상의 확률 값)\n",
    "p_value = 1 - chi2.cdf(chi2_stat, degrees_of_freedom)\n",
    "\n",
    "# 결과 출력\n",
    "print(\"Chi-Square Statistic:\", chi2_stat)\n",
    "print(\"p-value:\", p_value)\n",
    "\n",
    "# 가설 검정\n",
    "alpha = 0.05\n",
    "if p_value < alpha:\n",
    "    print(\"귀무가설 기각. 모분산은 1.0과 다릅니다.\")\n",
    "else:\n",
    "    print(\"귀무가설 채택. 모분산은 1.0과 같을 가능성이 있습니다.\")"
   ]
  },
  {
   "cell_type": "markdown",
   "id": "f4d016e5",
   "metadata": {},
   "source": [
    "## 5. 두 모분산 비에 대한 가설 검정 (f 검정: 일원분산분석)"
   ]
  },
  {
   "cell_type": "markdown",
   "id": "68f5fc7d",
   "metadata": {},
   "source": [
    "- F 검정 : 주어진 **두 집단의 분산이 동일한지**에 대한 검정 (모분산의 동질성 테스트)\n",
    "![6](pictures/6.png)"
   ]
  },
  {
   "cell_type": "code",
   "execution_count": 13,
   "id": "3f54f31e",
   "metadata": {},
   "outputs": [
    {
     "name": "stdout",
     "output_type": "stream",
     "text": [
      "[ 8.52810469  5.80031442  6.95747597  9.4817864   8.73511598  3.04544424\n",
      "  6.90017684  4.69728558  4.7935623   5.821197    5.28808714  7.90854701\n",
      "  6.52207545  5.24335003  5.88772647  5.66734865  7.98815815  4.58968347\n",
      "  5.6261354   3.29180852 -0.10597963  6.30723719  6.7288724   3.51566996\n",
      "  9.53950925  2.09126865  5.09151703  4.6256323   8.06555843  7.93871754\n",
      "  5.30989485  5.75632504  3.2244285   1.03840706  4.3041757   5.31269794\n",
      "  7.46058136  7.4047597   4.22534637  4.3953945   2.90289407  2.15996413\n",
      "  1.58745962  8.90155079  3.98069564  4.1238514   2.49440928  6.55498071\n",
      "  1.7722043   4.57451944]\n",
      "[ 2.31360032  6.16070749  3.46758459  1.45810345  4.91545331  6.28499561\n",
      "  5.19955167  5.90741569  3.09703372  3.9117765   2.98261866  3.92134052\n",
      "  2.56056115 -0.17884781  5.53227843  3.79465719  0.10940496  6.38834677\n",
      "  2.27810491  5.15583619  7.18727169  5.38694873  8.41820205  1.29552254\n",
      "  6.20702492  2.94556973  2.38760855  3.26345101  4.0653424   5.16849603\n",
      "  1.50455048  7.70247946  6.39698732  0.39126894  9.46475658 10.68766753\n",
      "  8.53633871  4.46022549  1.78774214  8.16335518  3.79046916  8.66733521\n",
      "  5.62482493  7.92991711  6.06909919  7.1197195   5.03150006 10.35761148\n",
      "  5.38073628  6.20596809]\n"
     ]
    }
   ],
   "source": [
    "import numpy as np\n",
    "\n",
    "np.random.seed(0) # 시드 고정\n",
    "\n",
    "sample1 = np.random.normal(loc=5, scale=2, size=50) # 첫 번째 표본 생성\n",
    "sample2 = np.random.normal(loc=5, scale=3, size=50) # 두 번째 표본 생성\n",
    "print(sample1)\n",
    "print(sample2)"
   ]
  },
  {
   "cell_type": "code",
   "execution_count": 14,
   "id": "eb739f13",
   "metadata": {},
   "outputs": [
    {
     "name": "stdout",
     "output_type": "stream",
     "text": [
      "표본 1의 분산: 5.1706\n",
      "표본 2의 분산: 6.9044\n",
      "F-통계량: 0.7489\n",
      "p-value: 0.8426 >= 0.05, 귀무가설 채택. 두 표본의 모분산은 같을 수 있습니다.\n"
     ]
    }
   ],
   "source": [
    "from scipy import stats\n",
    "\n",
    "# 두 표본의 분산 계산\n",
    "variance_sample1 = np.var(sample1, ddof=1) # ddof=1은 자유도 보정을 위해 사용\n",
    "variance_sample2 = np.var(sample2, ddof=1)\n",
    "\n",
    "# F-검정 실행\n",
    "## 검정 통계량 : 표본1 분산 / 표본2 분산\n",
    "f_statistic = variance_sample1 / variance_sample2\n",
    "df1 = len(sample1) - 1\n",
    "df2 = len(sample2) - 1\n",
    "\n",
    "p_value = 1 - stats.f.cdf(f_statistic, df1, df2)\n",
    "\n",
    "print(f\"표본 1의 분산: {variance_sample1:.4f}\")\n",
    "print(f\"표본 2의 분산: {variance_sample2:.4f}\")\n",
    "print(f\"F-통계량: {f_statistic:.4f}\")\n",
    "\n",
    "alpha = 0.05\n",
    "\n",
    "if p_value < alpha:\n",
    "    print(f\"p-value: {p_value:.4f} < {alpha}, 귀무가설 기각. 두 표본의 모분산은 다릅니다.\")\n",
    "else:\n",
    "    print(f\"p-value: {p_value:.4f} >= {alpha}, 귀무가설 채택. 두 표본의 모분산은 같을 수 있습니다.\")\n"
   ]
  },
  {
   "cell_type": "markdown",
   "id": "48bbd9e1",
   "metadata": {},
   "source": [
    "## 6. 독립성 검정 (카이제곱 검정)\n",
    "- 두 변수 간 상호 영향도를 판단할 때 사용 (명목척도 사용)\n",
    "- **내가 설정한 독립변수(원인)가 종속변수(결과)에 정말 영향을 미치는지? 아님 독립적인지?**\n",
    "- 변수 간 움직임이 독립적인지 확인하기 위함 !!!\n",
    "<br><br>\n",
    "- 귀무가설 : 독립변수는 종속변수와 상호 독립적이다\n",
    "- 대립가설 : 독립변수는 종속변수와 독립적이지 않다 (영향을 미친다)\n"
   ]
  },
  {
   "cell_type": "code",
   "execution_count": 15,
   "id": "f6a13e83",
   "metadata": {},
   "outputs": [
    {
     "name": "stdout",
     "output_type": "stream",
     "text": [
      "Chi-square statistic: 134.7511341579557\n",
      "p-value: 5.117490956087995e-29\n",
      "Degrees of freedom: 3\n",
      "Expected frequencies table:\n",
      "[[ 99.16666667  74.375      120.41666667 131.04166667]\n",
      " [ 40.83333333  30.625       49.58333333  53.95833333]]\n"
     ]
    }
   ],
   "source": [
    "import numpy as np\n",
    "from scipy.stats import chi2_contingency\n",
    "\n",
    "# 주어진 데이터를 매트릭스로 입력\n",
    "data_matrix = np.array([[50, 75, 125, 175], [90, 30, 45, 10]])\n",
    "\n",
    "# 카이제곱 독립성 검정 수행\n",
    "chi2, p, df, expected = chi2_contingency(data_matrix)\n",
    "\n",
    "# 결과 출력\n",
    "print(\"Chi-square statistic:\", chi2)   # 검정 통계량\n",
    "print(\"p-value:\", p)                   # p-value\n",
    "print(\"Degrees of freedom:\", df)       # 자유도\n",
    "print(\"Expected frequencies table:\")   # 기대값\n",
    "print(expected)"
   ]
  },
  {
   "cell_type": "code",
   "execution_count": 16,
   "id": "081d852c",
   "metadata": {},
   "outputs": [
    {
     "name": "stdout",
     "output_type": "stream",
     "text": [
      "카이제곱 통계량: 260.71702016732104\n",
      "p-value: 1.1973570627755645e-58\n",
      "자유도(df): 1\n",
      "기대값(Expected Frequencies):\n",
      "[[193.47474747 120.52525253]\n",
      " [355.52525253 221.47474747]]\n"
     ]
    }
   ],
   "source": [
    "import pandas as pd\n",
    "import numpy as np\n",
    "from scipy.stats import chi2_contingency\n",
    "\n",
    "# 타이타닉 데이터셋\n",
    "titanic_data = pd.read_csv('https://raw.githubusercontent.com/YoungjinBD/dataset/main/titanic.csv')\n",
    "\n",
    "# 교차표 생성: 성별(Sex)과 생존 여부(Survived)를 기반\n",
    "cross_table = pd.crosstab(titanic_data['Sex'], titanic_data['Survived'])\n",
    "\n",
    "# 카이제곱 독립성 검정 수행\n",
    "chi2, p, df, expected = chi2_contingency(cross_table)\n",
    "\n",
    "# 결과 출력\n",
    "print(\"카이제곱 통계량:\", chi2)\n",
    "print(\"p-value:\", p)\n",
    "print(\"자유도(df):\", df)\n",
    "print(\"기대값(Expected Frequencies):\")\n",
    "print(expected)"
   ]
  },
  {
   "cell_type": "code",
   "execution_count": 17,
   "id": "7d9ad1b0",
   "metadata": {},
   "outputs": [
    {
     "name": "stdout",
     "output_type": "stream",
     "text": [
      "           Age AgeGroup\n",
      "0    22.000000      20대\n",
      "1    38.000000      30대\n",
      "2    26.000000      20대\n",
      "3    35.000000      30대\n",
      "4    35.000000      30대\n",
      "..         ...      ...\n",
      "886  27.000000      20대\n",
      "887  19.000000      10대\n",
      "888  29.699118      20대\n",
      "889  26.000000      20대\n",
      "890  32.000000      30대\n",
      "\n",
      "[891 rows x 2 columns]\n"
     ]
    }
   ],
   "source": [
    "# 나이를 그룹으로 나누는 함수 정의\n",
    "def categorize_age(age):\n",
    "    if age < 20:\n",
    "        return '10대'\n",
    "    elif age < 30:\n",
    "        return '20대'\n",
    "    elif age < 40:\n",
    "        return '30대'\n",
    "    elif age < 50:\n",
    "        return '40대'\n",
    "    elif age < 60:\n",
    "        return '50대'\n",
    "    else:\n",
    "        return '60대 이상'\n",
    "\n",
    "# 나이가 NaN인 경우 해당 열의 평균값으로 대체\n",
    "average_age = titanic_data['Age'].mean()\n",
    "titanic_data['Age'] = titanic_data['Age'].apply(lambda x: average_age if np.isnan(x) else x)\n",
    "\n",
    "# apply() 함수로 새로운 열 생성\n",
    "titanic_data['AgeGroup'] = titanic_data['Age'].apply(categorize_age)\n",
    "\n",
    "# 결과 출력\n",
    "print(titanic_data[['Age', 'AgeGroup']])"
   ]
  },
  {
   "cell_type": "code",
   "execution_count": 18,
   "id": "be5323c0",
   "metadata": {},
   "outputs": [
    {
     "name": "stdout",
     "output_type": "stream",
     "text": [
      "카이제곱 통계량: 16.134525241016338\n",
      "p-value): 0.006470311249228111\n",
      "자유도(df): 5\n",
      "기대값(Expected Frequencies):\n",
      "[[101.05050505  62.94949495]\n",
      " [244.61616162 152.38383838]\n",
      " [102.8989899   64.1010101 ]\n",
      " [ 54.83838384  34.16161616]\n",
      " [ 29.57575758  18.42424242]\n",
      " [ 16.02020202   9.97979798]]\n"
     ]
    }
   ],
   "source": [
    "# 교차표 생성: 연령대(AgeGroup)과 생존 여부(Survived)를 기반\n",
    "cross_table = pd.crosstab(titanic_data['AgeGroup'], titanic_data['Survived'])\n",
    "\n",
    "# 카이제곱 독립성 검정 수행\n",
    "chi2, p, df, expected = chi2_contingency(cross_table)\n",
    "\n",
    "# 결과 출력\n",
    "print(\"카이제곱 통계량:\", chi2)\n",
    "print(\"p-value):\", p)\n",
    "print(\"자유도(df):\", df)\n",
    "print(\"기대값(Expected Frequencies):\")\n",
    "print(expected)"
   ]
  },
  {
   "cell_type": "code",
   "execution_count": null,
   "id": "903948d2",
   "metadata": {},
   "outputs": [],
   "source": []
  }
 ],
 "metadata": {
  "kernelspec": {
   "display_name": "Python 3 (ipykernel)",
   "language": "python",
   "name": "python3"
  },
  "language_info": {
   "codemirror_mode": {
    "name": "ipython",
    "version": 3
   },
   "file_extension": ".py",
   "mimetype": "text/x-python",
   "name": "python",
   "nbconvert_exporter": "python",
   "pygments_lexer": "ipython3",
   "version": "3.10.11"
  }
 },
 "nbformat": 4,
 "nbformat_minor": 5
}
